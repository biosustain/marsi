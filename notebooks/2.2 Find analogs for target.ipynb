{
 "cells": [
  {
   "cell_type": "code",
   "execution_count": 1,
   "metadata": {},
   "outputs": [
    {
     "name": "stdout",
     "output_type": "stream",
     "text": [
      "Looking for local setup.cfg\n",
      "Not available [Errno 2] No such file or directory: 'setup.cfg'\n"
     ]
    },
    {
     "data": {
      "text/html": []
     },
     "metadata": {},
     "output_type": "display_data"
    },
    {
     "data": {
      "application/javascript": [
       "\n",
       "(function(global) {\n",
       "  function now() {\n",
       "    return new Date();\n",
       "  }\n",
       "\n",
       "  if (typeof (window._bokeh_onload_callbacks) === \"undefined\") {\n",
       "    window._bokeh_onload_callbacks = [];\n",
       "  }\n",
       "\n",
       "  function run_callbacks() {\n",
       "    window._bokeh_onload_callbacks.forEach(function(callback) { callback() });\n",
       "    delete window._bokeh_onload_callbacks\n",
       "    console.info(\"Bokeh: all callbacks have finished\");\n",
       "  }\n",
       "\n",
       "  function load_libs(js_urls, callback) {\n",
       "    window._bokeh_onload_callbacks.push(callback);\n",
       "    if (window._bokeh_is_loading > 0) {\n",
       "      console.log(\"Bokeh: BokehJS is being loaded, scheduling callback at\", now());\n",
       "      return null;\n",
       "    }\n",
       "    if (js_urls == null || js_urls.length === 0) {\n",
       "      run_callbacks();\n",
       "      return null;\n",
       "    }\n",
       "    console.log(\"Bokeh: BokehJS not loaded, scheduling load and callback at\", now());\n",
       "    window._bokeh_is_loading = js_urls.length;\n",
       "    for (var i = 0; i < js_urls.length; i++) {\n",
       "      var url = js_urls[i];\n",
       "      var s = document.createElement('script');\n",
       "      s.src = url;\n",
       "      s.async = false;\n",
       "      s.onreadystatechange = s.onload = function() {\n",
       "        window._bokeh_is_loading--;\n",
       "        if (window._bokeh_is_loading === 0) {\n",
       "          console.log(\"Bokeh: all BokehJS libraries loaded\");\n",
       "          run_callbacks()\n",
       "        }\n",
       "      };\n",
       "      s.onerror = function() {\n",
       "        console.warn(\"failed to load library \" + url);\n",
       "      };\n",
       "      console.log(\"Bokeh: injecting script tag for BokehJS library: \", url);\n",
       "      document.getElementsByTagName(\"head\")[0].appendChild(s);\n",
       "    }\n",
       "  };\n",
       "\n",
       "  var js_urls = ['https://cdn.pydata.org/bokeh/release/bokeh-0.12.0.min.js', 'https://cdn.pydata.org/bokeh/release/bokeh-widgets-0.12.0.min.js', 'https://cdn.pydata.org/bokeh/release/bokeh-compiler-0.12.0.min.js'];\n",
       "\n",
       "  var inline_js = [\n",
       "    function(Bokeh) {\n",
       "      Bokeh.set_log_level(\"info\");\n",
       "    },\n",
       "    \n",
       "    function(Bokeh) {\n",
       "      Bokeh.$(\"#410c0899-2494-4e95-82bb-aa3b8d3c9aa4\").text(\"BokehJS successfully loaded\");\n",
       "    },\n",
       "    function(Bokeh) {\n",
       "      console.log(\"Bokeh: injecting CSS: https://cdn.pydata.org/bokeh/release/bokeh-0.12.0.min.css\");\n",
       "      Bokeh.embed.inject_css(\"https://cdn.pydata.org/bokeh/release/bokeh-0.12.0.min.css\");\n",
       "      console.log(\"Bokeh: injecting CSS: https://cdn.pydata.org/bokeh/release/bokeh-widgets-0.12.0.min.css\");\n",
       "      Bokeh.embed.inject_css(\"https://cdn.pydata.org/bokeh/release/bokeh-widgets-0.12.0.min.css\");\n",
       "    }\n",
       "  ];\n",
       "\n",
       "  function run_inline_js() {\n",
       "    for (var i = 0; i < inline_js.length; i++) {\n",
       "      inline_js[i](window.Bokeh);\n",
       "    }\n",
       "  }\n",
       "\n",
       "  if (window._bokeh_is_loading === 0) {\n",
       "    console.log(\"Bokeh: BokehJS loaded, going straight to plotting\");\n",
       "    run_inline_js();\n",
       "  } else {\n",
       "    load_libs(js_urls, function() {\n",
       "      console.log(\"Bokeh: BokehJS plotting callback run at\", now());\n",
       "      run_inline_js();\n",
       "    });\n",
       "  }\n",
       "}(this));"
      ]
     },
     "metadata": {},
     "output_type": "display_data"
    },
    {
     "data": {
      "text/html": []
     },
     "metadata": {},
     "output_type": "display_data"
    },
    {
     "data": {
      "application/javascript": [
       "\n",
       "(function(global) {\n",
       "  function now() {\n",
       "    return new Date();\n",
       "  }\n",
       "\n",
       "  if (typeof (window._bokeh_onload_callbacks) === \"undefined\") {\n",
       "    window._bokeh_onload_callbacks = [];\n",
       "  }\n",
       "\n",
       "  function run_callbacks() {\n",
       "    window._bokeh_onload_callbacks.forEach(function(callback) { callback() });\n",
       "    delete window._bokeh_onload_callbacks\n",
       "    console.info(\"Bokeh: all callbacks have finished\");\n",
       "  }\n",
       "\n",
       "  function load_libs(js_urls, callback) {\n",
       "    window._bokeh_onload_callbacks.push(callback);\n",
       "    if (window._bokeh_is_loading > 0) {\n",
       "      console.log(\"Bokeh: BokehJS is being loaded, scheduling callback at\", now());\n",
       "      return null;\n",
       "    }\n",
       "    if (js_urls == null || js_urls.length === 0) {\n",
       "      run_callbacks();\n",
       "      return null;\n",
       "    }\n",
       "    console.log(\"Bokeh: BokehJS not loaded, scheduling load and callback at\", now());\n",
       "    window._bokeh_is_loading = js_urls.length;\n",
       "    for (var i = 0; i < js_urls.length; i++) {\n",
       "      var url = js_urls[i];\n",
       "      var s = document.createElement('script');\n",
       "      s.src = url;\n",
       "      s.async = false;\n",
       "      s.onreadystatechange = s.onload = function() {\n",
       "        window._bokeh_is_loading--;\n",
       "        if (window._bokeh_is_loading === 0) {\n",
       "          console.log(\"Bokeh: all BokehJS libraries loaded\");\n",
       "          run_callbacks()\n",
       "        }\n",
       "      };\n",
       "      s.onerror = function() {\n",
       "        console.warn(\"failed to load library \" + url);\n",
       "      };\n",
       "      console.log(\"Bokeh: injecting script tag for BokehJS library: \", url);\n",
       "      document.getElementsByTagName(\"head\")[0].appendChild(s);\n",
       "    }\n",
       "  };\n",
       "\n",
       "  var js_urls = ['https://cdn.pydata.org/bokeh/release/bokeh-0.12.0.min.js', 'https://cdn.pydata.org/bokeh/release/bokeh-widgets-0.12.0.min.js', 'https://cdn.pydata.org/bokeh/release/bokeh-compiler-0.12.0.min.js'];\n",
       "\n",
       "  var inline_js = [\n",
       "    function(Bokeh) {\n",
       "      Bokeh.set_log_level(\"info\");\n",
       "    },\n",
       "    \n",
       "    function(Bokeh) {\n",
       "      Bokeh.$(\"#f34b1878-ad27-4c3b-be4c-c7aac465f8fe\").text(\"BokehJS successfully loaded\");\n",
       "    },\n",
       "    function(Bokeh) {\n",
       "      console.log(\"Bokeh: injecting CSS: https://cdn.pydata.org/bokeh/release/bokeh-0.12.0.min.css\");\n",
       "      Bokeh.embed.inject_css(\"https://cdn.pydata.org/bokeh/release/bokeh-0.12.0.min.css\");\n",
       "      console.log(\"Bokeh: injecting CSS: https://cdn.pydata.org/bokeh/release/bokeh-widgets-0.12.0.min.css\");\n",
       "      Bokeh.embed.inject_css(\"https://cdn.pydata.org/bokeh/release/bokeh-widgets-0.12.0.min.css\");\n",
       "    }\n",
       "  ];\n",
       "\n",
       "  function run_inline_js() {\n",
       "    for (var i = 0; i < inline_js.length; i++) {\n",
       "      inline_js[i](window.Bokeh);\n",
       "    }\n",
       "  }\n",
       "\n",
       "  if (window._bokeh_is_loading === 0) {\n",
       "    console.log(\"Bokeh: BokehJS loaded, going straight to plotting\");\n",
       "    run_inline_js();\n",
       "  } else {\n",
       "    load_libs(js_urls, function() {\n",
       "      console.log(\"Bokeh: BokehJS plotting callback run at\", now());\n",
       "      run_inline_js();\n",
       "    });\n",
       "  }\n",
       "}(this));"
      ]
     },
     "metadata": {},
     "output_type": "display_data"
    }
   ],
   "source": [
    "from marsi.nearest_neighbors import search_closest_compounds"
   ]
  },
  {
   "cell_type": "code",
   "execution_count": 2,
   "metadata": {},
   "outputs": [],
   "source": [
    "from marsi.chemistry.common import dynamic_fingerprint_cut"
   ]
  },
  {
   "cell_type": "code",
   "execution_count": 3,
   "metadata": {},
   "outputs": [],
   "source": [
    "glucose_inchi = \"InChI=1/C6H12O6/c7-1-2-3(8)4(9)5(10)6(11)12-2/h2-11H,1H2/t2-,3-,4+,5-,6+/m1/s1\""
   ]
  },
  {
   "cell_type": "code",
   "execution_count": 4,
   "metadata": {},
   "outputs": [],
   "source": [
    "from marsi.chemistry.molecule import Molecule"
   ]
  },
  {
   "cell_type": "code",
   "execution_count": 5,
   "metadata": {},
   "outputs": [],
   "source": [
    "glucose_molecule = Molecule.from_inchi(glucose_inchi)"
   ]
  },
  {
   "cell_type": "code",
   "execution_count": 6,
   "metadata": {},
   "outputs": [
    {
     "data": {
      "text/html": [
       "<?xml version=\"1.0\"?>\n",
       "<svg version=\"1.1\" id=\"topsvg\"\n",
       "xmlns=\"http://www.w3.org/2000/svg\" xmlns:xlink=\"http://www.w3.org/1999/xlink\"\n",
       "xmlns:cml=\"http://www.xml-cml.org/schema\" x=\"0\" y=\"0\" width=\"200px\" height=\"200px\" viewBox=\"0 0 100 100\">\n",
       "<title> - Open Babel Depiction</title>\n",
       "<rect x=\"0\" y=\"0\" width=\"100\" height=\"100\" fill=\"white\"/>\n",
       "<g transform=\"translate(0,0)\">\n",
       "<svg width=\"100\" height=\"100\" x=\"0\" y=\"0\" viewBox=\"0 0 218.564 260\"\n",
       "font-family=\"sans-serif\" stroke=\"rgb(0,0,0)\" stroke-width=\"2\"  stroke-linecap=\"round\">\n",
       "<line x1=\"110.1\" y1=\"168.0\" x2=\"108.5\" y2=\"168.0\" stroke=\"rgb(0,0,0)\"  stroke-width=\"1.0\"/>\n",
       "<line x1=\"110.7\" y1=\"174.4\" x2=\"107.8\" y2=\"174.4\" stroke=\"rgb(0,0,0)\"  stroke-width=\"1.0\"/>\n",
       "<line x1=\"111.4\" y1=\"180.8\" x2=\"107.2\" y2=\"180.8\" stroke=\"rgb(0,0,0)\"  stroke-width=\"1.0\"/>\n",
       "<line x1=\"112.0\" y1=\"187.2\" x2=\"106.6\" y2=\"187.2\" stroke=\"rgb(0,0,0)\"  stroke-width=\"1.0\"/>\n",
       "<line x1=\"112.6\" y1=\"193.6\" x2=\"105.9\" y2=\"193.6\" stroke=\"rgb(0,0,0)\"  stroke-width=\"1.0\"/>\n",
       "<line x1=\"113.3\" y1=\"200.0\" x2=\"105.3\" y2=\"200.0\" stroke=\"rgb(0,0,0)\"  stroke-width=\"1.0\"/>\n",
       "<line x1=\"109.3\" y1=\"200.0\" x2=\"85.9\" y2=\"213.5\" stroke=\"rgb(0,0,0)\"  stroke-width=\"2.0\"/>\n",
       "<polygon points=\"74.641016 140.000000 53.431535 156.864102 49.431535 149.935898 \" stroke-width=\"2.000000\" fill=\"rgb(0,0,0)\"  stroke=\"rgb(0,0,0)\" />\n",
       "<line x1=\"69.6\" y1=\"98.0\" x2=\"70.4\" y2=\"96.6\" stroke=\"rgb(0,0,0)\"  stroke-width=\"1.0\"/>\n",
       "<line x1=\"65.6\" y1=\"96.4\" x2=\"67.0\" y2=\"93.9\" stroke=\"rgb(0,0,0)\"  stroke-width=\"1.0\"/>\n",
       "<line x1=\"61.5\" y1=\"94.8\" x2=\"63.6\" y2=\"91.2\" stroke=\"rgb(0,0,0)\"  stroke-width=\"1.0\"/>\n",
       "<line x1=\"57.5\" y1=\"93.2\" x2=\"60.2\" y2=\"88.5\" stroke=\"rgb(0,0,0)\"  stroke-width=\"1.0\"/>\n",
       "<line x1=\"53.5\" y1=\"91.7\" x2=\"56.8\" y2=\"85.8\" stroke=\"rgb(0,0,0)\"  stroke-width=\"1.0\"/>\n",
       "<line x1=\"49.4\" y1=\"90.1\" x2=\"53.4\" y2=\"83.1\" stroke=\"rgb(0,0,0)\"  stroke-width=\"1.0\"/>\n",
       "<polygon points=\"109.282032 80.000000 105.282032 53.200000 113.282032 53.200000 \" stroke-width=\"2.000000\" fill=\"rgb(0,0,0)\"  stroke=\"rgb(0,0,0)\" />\n",
       "<polygon points=\"143.923048 100.000000 165.132529 83.135898 169.132529 90.064102 \" stroke-width=\"2.000000\" fill=\"rgb(0,0,0)\"  stroke=\"rgb(0,0,0)\" />\n",
       "<line x1=\"74.6\" y1=\"140.0\" x2=\"109.3\" y2=\"160.0\" stroke=\"rgb(0,0,0)\"  stroke-width=\"2.0\"/>\n",
       "<line x1=\"109.3\" y1=\"160.0\" x2=\"132.7\" y2=\"146.5\" stroke=\"rgb(0,0,0)\"  stroke-width=\"2.0\"/>\n",
       "<line x1=\"143.9\" y1=\"127.0\" x2=\"143.9\" y2=\"100.0\" stroke=\"rgb(0,0,0)\"  stroke-width=\"2.0\"/>\n",
       "<line x1=\"143.9\" y1=\"100.0\" x2=\"109.3\" y2=\"80.0\" stroke=\"rgb(0,0,0)\"  stroke-width=\"2.0\"/>\n",
       "<line x1=\"109.3\" y1=\"80.0\" x2=\"74.6\" y2=\"100.0\" stroke=\"rgb(0,0,0)\"  stroke-width=\"2.0\"/>\n",
       "<line x1=\"74.6\" y1=\"100.0\" x2=\"74.6\" y2=\"140.0\" stroke=\"rgb(0,0,0)\"  stroke-width=\"2.0\"/>\n",
       "<text x=\"56.641016\" y=\"228.000000\" fill=\"rgb(255,12,12)\"  stroke=\"rgb(255,12,12)\" stroke-width=\"1\" font-size=\"16\" >HO</text>\n",
       "<text x=\"22.000000\" y=\"168.000000\" fill=\"rgb(255,12,12)\"  stroke=\"rgb(255,12,12)\" stroke-width=\"1\" font-size=\"16\" >HO</text>\n",
       "<text x=\"22.000000\" y=\"88.000000\" fill=\"rgb(255,12,12)\"  stroke=\"rgb(255,12,12)\" stroke-width=\"1\" font-size=\"16\" >HO</text>\n",
       "<text x=\"103.282032\" y=\"48.000000\" fill=\"rgb(255,12,12)\"  stroke=\"rgb(255,12,12)\" stroke-width=\"1\" font-size=\"16\" >OH</text>\n",
       "<text x=\"172.564065\" y=\"88.000000\" fill=\"rgb(255,12,12)\"  stroke=\"rgb(255,12,12)\" stroke-width=\"1\" font-size=\"16\" >OH</text>\n",
       "<text x=\"137.923048\" y=\"148.000000\" fill=\"rgb(255,12,12)\"  stroke=\"rgb(255,12,12)\" stroke-width=\"1\" font-size=\"16\" >O</text>\n",
       "</svg>\n",
       "</g>\n",
       "<text font-size=\"18.000000\" fill =\"black\" font-family=\"sans-serif\"\n",
       "x=\"10.000000\" y=\"20.000000\" ></text>\n",
       "</svg>"
      ],
      "text/plain": [
       "<marsi.chemistry.molecule.Molecule at 0x11be2af28>"
      ]
     },
     "execution_count": 6,
     "metadata": {},
     "output_type": "execute_result"
    }
   ],
   "source": [
    "glucose_molecule"
   ]
  },
  {
   "cell_type": "code",
   "execution_count": null,
   "metadata": {},
   "outputs": [
    {
     "data": {
      "text/plain": [
       "0.439615"
      ]
     },
     "execution_count": 7,
     "metadata": {},
     "output_type": "execute_result"
    }
   ],
   "source": [
    "cutoff = dynamic_fingerprint_cut(glucose_molecule.num_atoms); cutoff"
   ]
  },
  {
   "cell_type": "code",
   "execution_count": null,
   "metadata": {},
   "outputs": [
    {
     "name": "stderr",
     "output_type": "stream",
     "text": [
      "/usr/local/miniconda3/envs/marsi/lib/python3.5/site-packages/sklearn/utils/validation.py:475 \u001b[1;31mDataConversionWarning\u001b[0m: Data with input dtype int32 was converted to bool by check_pairwise_arrays.\n"
     ]
    }
   ],
   "source": [
    "hits = search_closest_compounds(molecule=glucose_molecule, fp_cut=cutoff)"
   ]
  },
  {
   "cell_type": "code",
   "execution_count": null,
   "metadata": {},
   "outputs": [],
   "source": [
    "hits.sort_values('structural_score', ascending=False).head(15)"
   ]
  },
  {
   "cell_type": "code",
   "execution_count": null,
   "metadata": {},
   "outputs": [],
   "source": [
    "from marsi.io.db import Metabolite"
   ]
  },
  {
   "cell_type": "code",
   "execution_count": null,
   "metadata": {},
   "outputs": [],
   "source": [
    "Metabolite.get('WCWOEQFAYSXBRK-FPRJBGLDSA-N')"
   ]
  },
  {
   "cell_type": "code",
   "execution_count": null,
   "metadata": {},
   "outputs": [],
   "source": [
    "Metabolite.get('WCWOEQFAYSXBRK-QBFJYBIGSA-N')"
   ]
  },
  {
   "cell_type": "code",
   "execution_count": null,
   "metadata": {},
   "outputs": [],
   "source": [
    "Metabolite.get('ZCXUVYAZINUVJD-FQJSGBEDSA-N')"
   ]
  },
  {
   "cell_type": "code",
   "execution_count": null,
   "metadata": {},
   "outputs": [],
   "source": []
  }
 ],
 "metadata": {
  "kernelspec": {
   "display_name": "Python 3",
   "language": "python",
   "name": "python3"
  },
  "language_info": {
   "codemirror_mode": {
    "name": "ipython",
    "version": 3
   },
   "file_extension": ".py",
   "mimetype": "text/x-python",
   "name": "python",
   "nbconvert_exporter": "python",
   "pygments_lexer": "ipython3",
   "version": "3.5.4"
  }
 },
 "nbformat": 4,
 "nbformat_minor": 2
}
