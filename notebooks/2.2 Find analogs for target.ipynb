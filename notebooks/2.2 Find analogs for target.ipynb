{
 "cells": [
  {
   "cell_type": "code",
   "execution_count": 1,
   "metadata": {},
   "outputs": [
    {
     "name": "stdout",
     "output_type": "stream",
     "text": [
      "Looking for local setup.cfg\n",
      "Not available [Errno 2] No such file or directory: 'setup.cfg'\n"
     ]
    },
    {
     "data": {
      "text/html": []
     },
     "metadata": {},
     "output_type": "display_data"
    },
    {
     "data": {
      "application/javascript": [
       "\n",
       "(function(global) {\n",
       "  function now() {\n",
       "    return new Date();\n",
       "  }\n",
       "\n",
       "  if (typeof (window._bokeh_onload_callbacks) === \"undefined\") {\n",
       "    window._bokeh_onload_callbacks = [];\n",
       "  }\n",
       "\n",
       "  function run_callbacks() {\n",
       "    window._bokeh_onload_callbacks.forEach(function(callback) { callback() });\n",
       "    delete window._bokeh_onload_callbacks\n",
       "    console.info(\"Bokeh: all callbacks have finished\");\n",
       "  }\n",
       "\n",
       "  function load_libs(js_urls, callback) {\n",
       "    window._bokeh_onload_callbacks.push(callback);\n",
       "    if (window._bokeh_is_loading > 0) {\n",
       "      console.log(\"Bokeh: BokehJS is being loaded, scheduling callback at\", now());\n",
       "      return null;\n",
       "    }\n",
       "    if (js_urls == null || js_urls.length === 0) {\n",
       "      run_callbacks();\n",
       "      return null;\n",
       "    }\n",
       "    console.log(\"Bokeh: BokehJS not loaded, scheduling load and callback at\", now());\n",
       "    window._bokeh_is_loading = js_urls.length;\n",
       "    for (var i = 0; i < js_urls.length; i++) {\n",
       "      var url = js_urls[i];\n",
       "      var s = document.createElement('script');\n",
       "      s.src = url;\n",
       "      s.async = false;\n",
       "      s.onreadystatechange = s.onload = function() {\n",
       "        window._bokeh_is_loading--;\n",
       "        if (window._bokeh_is_loading === 0) {\n",
       "          console.log(\"Bokeh: all BokehJS libraries loaded\");\n",
       "          run_callbacks()\n",
       "        }\n",
       "      };\n",
       "      s.onerror = function() {\n",
       "        console.warn(\"failed to load library \" + url);\n",
       "      };\n",
       "      console.log(\"Bokeh: injecting script tag for BokehJS library: \", url);\n",
       "      document.getElementsByTagName(\"head\")[0].appendChild(s);\n",
       "    }\n",
       "  };\n",
       "\n",
       "  var js_urls = ['https://cdn.pydata.org/bokeh/release/bokeh-0.12.0.min.js', 'https://cdn.pydata.org/bokeh/release/bokeh-widgets-0.12.0.min.js', 'https://cdn.pydata.org/bokeh/release/bokeh-compiler-0.12.0.min.js'];\n",
       "\n",
       "  var inline_js = [\n",
       "    function(Bokeh) {\n",
       "      Bokeh.set_log_level(\"info\");\n",
       "    },\n",
       "    \n",
       "    function(Bokeh) {\n",
       "      Bokeh.$(\"#3870a9ba-37e2-471e-8cf1-b981b5491205\").text(\"BokehJS successfully loaded\");\n",
       "    },\n",
       "    function(Bokeh) {\n",
       "      console.log(\"Bokeh: injecting CSS: https://cdn.pydata.org/bokeh/release/bokeh-0.12.0.min.css\");\n",
       "      Bokeh.embed.inject_css(\"https://cdn.pydata.org/bokeh/release/bokeh-0.12.0.min.css\");\n",
       "      console.log(\"Bokeh: injecting CSS: https://cdn.pydata.org/bokeh/release/bokeh-widgets-0.12.0.min.css\");\n",
       "      Bokeh.embed.inject_css(\"https://cdn.pydata.org/bokeh/release/bokeh-widgets-0.12.0.min.css\");\n",
       "    }\n",
       "  ];\n",
       "\n",
       "  function run_inline_js() {\n",
       "    for (var i = 0; i < inline_js.length; i++) {\n",
       "      inline_js[i](window.Bokeh);\n",
       "    }\n",
       "  }\n",
       "\n",
       "  if (window._bokeh_is_loading === 0) {\n",
       "    console.log(\"Bokeh: BokehJS loaded, going straight to plotting\");\n",
       "    run_inline_js();\n",
       "  } else {\n",
       "    load_libs(js_urls, function() {\n",
       "      console.log(\"Bokeh: BokehJS plotting callback run at\", now());\n",
       "      run_inline_js();\n",
       "    });\n",
       "  }\n",
       "}(this));"
      ]
     },
     "metadata": {},
     "output_type": "display_data"
    },
    {
     "data": {
      "text/html": []
     },
     "metadata": {},
     "output_type": "display_data"
    },
    {
     "data": {
      "application/javascript": [
       "\n",
       "(function(global) {\n",
       "  function now() {\n",
       "    return new Date();\n",
       "  }\n",
       "\n",
       "  if (typeof (window._bokeh_onload_callbacks) === \"undefined\") {\n",
       "    window._bokeh_onload_callbacks = [];\n",
       "  }\n",
       "\n",
       "  function run_callbacks() {\n",
       "    window._bokeh_onload_callbacks.forEach(function(callback) { callback() });\n",
       "    delete window._bokeh_onload_callbacks\n",
       "    console.info(\"Bokeh: all callbacks have finished\");\n",
       "  }\n",
       "\n",
       "  function load_libs(js_urls, callback) {\n",
       "    window._bokeh_onload_callbacks.push(callback);\n",
       "    if (window._bokeh_is_loading > 0) {\n",
       "      console.log(\"Bokeh: BokehJS is being loaded, scheduling callback at\", now());\n",
       "      return null;\n",
       "    }\n",
       "    if (js_urls == null || js_urls.length === 0) {\n",
       "      run_callbacks();\n",
       "      return null;\n",
       "    }\n",
       "    console.log(\"Bokeh: BokehJS not loaded, scheduling load and callback at\", now());\n",
       "    window._bokeh_is_loading = js_urls.length;\n",
       "    for (var i = 0; i < js_urls.length; i++) {\n",
       "      var url = js_urls[i];\n",
       "      var s = document.createElement('script');\n",
       "      s.src = url;\n",
       "      s.async = false;\n",
       "      s.onreadystatechange = s.onload = function() {\n",
       "        window._bokeh_is_loading--;\n",
       "        if (window._bokeh_is_loading === 0) {\n",
       "          console.log(\"Bokeh: all BokehJS libraries loaded\");\n",
       "          run_callbacks()\n",
       "        }\n",
       "      };\n",
       "      s.onerror = function() {\n",
       "        console.warn(\"failed to load library \" + url);\n",
       "      };\n",
       "      console.log(\"Bokeh: injecting script tag for BokehJS library: \", url);\n",
       "      document.getElementsByTagName(\"head\")[0].appendChild(s);\n",
       "    }\n",
       "  };\n",
       "\n",
       "  var js_urls = ['https://cdn.pydata.org/bokeh/release/bokeh-0.12.0.min.js', 'https://cdn.pydata.org/bokeh/release/bokeh-widgets-0.12.0.min.js', 'https://cdn.pydata.org/bokeh/release/bokeh-compiler-0.12.0.min.js'];\n",
       "\n",
       "  var inline_js = [\n",
       "    function(Bokeh) {\n",
       "      Bokeh.set_log_level(\"info\");\n",
       "    },\n",
       "    \n",
       "    function(Bokeh) {\n",
       "      Bokeh.$(\"#3e08c60d-3a98-403f-b4e9-b17dfc8498b8\").text(\"BokehJS successfully loaded\");\n",
       "    },\n",
       "    function(Bokeh) {\n",
       "      console.log(\"Bokeh: injecting CSS: https://cdn.pydata.org/bokeh/release/bokeh-0.12.0.min.css\");\n",
       "      Bokeh.embed.inject_css(\"https://cdn.pydata.org/bokeh/release/bokeh-0.12.0.min.css\");\n",
       "      console.log(\"Bokeh: injecting CSS: https://cdn.pydata.org/bokeh/release/bokeh-widgets-0.12.0.min.css\");\n",
       "      Bokeh.embed.inject_css(\"https://cdn.pydata.org/bokeh/release/bokeh-widgets-0.12.0.min.css\");\n",
       "    }\n",
       "  ];\n",
       "\n",
       "  function run_inline_js() {\n",
       "    for (var i = 0; i < inline_js.length; i++) {\n",
       "      inline_js[i](window.Bokeh);\n",
       "    }\n",
       "  }\n",
       "\n",
       "  if (window._bokeh_is_loading === 0) {\n",
       "    console.log(\"Bokeh: BokehJS loaded, going straight to plotting\");\n",
       "    run_inline_js();\n",
       "  } else {\n",
       "    load_libs(js_urls, function() {\n",
       "      console.log(\"Bokeh: BokehJS plotting callback run at\", now());\n",
       "      run_inline_js();\n",
       "    });\n",
       "  }\n",
       "}(this));"
      ]
     },
     "metadata": {},
     "output_type": "display_data"
    },
    {
     "name": "stderr",
     "output_type": "stream",
     "text": [
      "/Users/joaca/Documents/repositories/marsi/marsi/chemistry/rdkit.py:25 \u001b[1;31mDeprecationWarning\u001b[0m: The rdkit.Chem.MCS module is deprecated; please use rdkit.Chem.rdFMCS instead.\n"
     ]
    }
   ],
   "source": [
    "from marsi.nearest_neighbors import search_closest_compounds"
   ]
  },
  {
   "cell_type": "code",
   "execution_count": 2,
   "metadata": {},
   "outputs": [],
   "source": [
    "from marsi.chemistry.common import dynamic_fingerprint_cut"
   ]
  },
  {
   "cell_type": "code",
   "execution_count": 3,
   "metadata": {},
   "outputs": [],
   "source": [
    "glucose_inchi = \"InChI=1/C6H12O6/c7-1-2-3(8)4(9)5(10)6(11)12-2/h2-11H,1H2/t2-,3-,4+,5-,6+/m1/s1\""
   ]
  },
  {
   "cell_type": "code",
   "execution_count": 4,
   "metadata": {},
   "outputs": [],
   "source": [
    "from marsi.chemistry.molecule import Molecule"
   ]
  },
  {
   "cell_type": "code",
   "execution_count": 5,
   "metadata": {},
   "outputs": [],
   "source": [
    "glucose_molecule = Molecule.from_inchi(glucose_inchi)"
   ]
  },
  {
   "cell_type": "code",
   "execution_count": 6,
   "metadata": {},
   "outputs": [
    {
     "data": {
      "text/html": [
       "<?xml version=\"1.0\"?>\n",
       "<svg version=\"1.1\" id=\"topsvg\"\n",
       "xmlns=\"http://www.w3.org/2000/svg\" xmlns:xlink=\"http://www.w3.org/1999/xlink\"\n",
       "xmlns:cml=\"http://www.xml-cml.org/schema\" x=\"0\" y=\"0\" width=\"200px\" height=\"200px\" viewBox=\"0 0 100 100\">\n",
       "<title> - Open Babel Depiction</title>\n",
       "<rect x=\"0\" y=\"0\" width=\"100\" height=\"100\" fill=\"white\"/>\n",
       "<g transform=\"translate(0,0)\">\n",
       "<svg width=\"100\" height=\"100\" x=\"0\" y=\"0\" viewBox=\"0 0 218.564 260\"\n",
       "font-family=\"sans-serif\" stroke=\"rgb(0,0,0)\" stroke-width=\"2\"  stroke-linecap=\"round\">\n",
       "<line x1=\"110.1\" y1=\"168.0\" x2=\"108.5\" y2=\"168.0\" stroke=\"rgb(0,0,0)\"  stroke-width=\"1.0\"/>\n",
       "<line x1=\"110.7\" y1=\"174.4\" x2=\"107.8\" y2=\"174.4\" stroke=\"rgb(0,0,0)\"  stroke-width=\"1.0\"/>\n",
       "<line x1=\"111.4\" y1=\"180.8\" x2=\"107.2\" y2=\"180.8\" stroke=\"rgb(0,0,0)\"  stroke-width=\"1.0\"/>\n",
       "<line x1=\"112.0\" y1=\"187.2\" x2=\"106.6\" y2=\"187.2\" stroke=\"rgb(0,0,0)\"  stroke-width=\"1.0\"/>\n",
       "<line x1=\"112.6\" y1=\"193.6\" x2=\"105.9\" y2=\"193.6\" stroke=\"rgb(0,0,0)\"  stroke-width=\"1.0\"/>\n",
       "<line x1=\"113.3\" y1=\"200.0\" x2=\"105.3\" y2=\"200.0\" stroke=\"rgb(0,0,0)\"  stroke-width=\"1.0\"/>\n",
       "<line x1=\"109.3\" y1=\"200.0\" x2=\"85.9\" y2=\"213.5\" stroke=\"rgb(0,0,0)\"  stroke-width=\"2.0\"/>\n",
       "<polygon points=\"74.641016 140.000000 53.431535 156.864102 49.431535 149.935898 \" stroke-width=\"2.000000\" fill=\"rgb(0,0,0)\"  stroke=\"rgb(0,0,0)\" />\n",
       "<line x1=\"69.6\" y1=\"98.0\" x2=\"70.4\" y2=\"96.6\" stroke=\"rgb(0,0,0)\"  stroke-width=\"1.0\"/>\n",
       "<line x1=\"65.6\" y1=\"96.4\" x2=\"67.0\" y2=\"93.9\" stroke=\"rgb(0,0,0)\"  stroke-width=\"1.0\"/>\n",
       "<line x1=\"61.5\" y1=\"94.8\" x2=\"63.6\" y2=\"91.2\" stroke=\"rgb(0,0,0)\"  stroke-width=\"1.0\"/>\n",
       "<line x1=\"57.5\" y1=\"93.2\" x2=\"60.2\" y2=\"88.5\" stroke=\"rgb(0,0,0)\"  stroke-width=\"1.0\"/>\n",
       "<line x1=\"53.5\" y1=\"91.7\" x2=\"56.8\" y2=\"85.8\" stroke=\"rgb(0,0,0)\"  stroke-width=\"1.0\"/>\n",
       "<line x1=\"49.4\" y1=\"90.1\" x2=\"53.4\" y2=\"83.1\" stroke=\"rgb(0,0,0)\"  stroke-width=\"1.0\"/>\n",
       "<polygon points=\"109.282032 80.000000 105.282032 53.200000 113.282032 53.200000 \" stroke-width=\"2.000000\" fill=\"rgb(0,0,0)\"  stroke=\"rgb(0,0,0)\" />\n",
       "<polygon points=\"143.923048 100.000000 165.132529 83.135898 169.132529 90.064102 \" stroke-width=\"2.000000\" fill=\"rgb(0,0,0)\"  stroke=\"rgb(0,0,0)\" />\n",
       "<line x1=\"74.6\" y1=\"140.0\" x2=\"109.3\" y2=\"160.0\" stroke=\"rgb(0,0,0)\"  stroke-width=\"2.0\"/>\n",
       "<line x1=\"109.3\" y1=\"160.0\" x2=\"132.7\" y2=\"146.5\" stroke=\"rgb(0,0,0)\"  stroke-width=\"2.0\"/>\n",
       "<line x1=\"143.9\" y1=\"127.0\" x2=\"143.9\" y2=\"100.0\" stroke=\"rgb(0,0,0)\"  stroke-width=\"2.0\"/>\n",
       "<line x1=\"143.9\" y1=\"100.0\" x2=\"109.3\" y2=\"80.0\" stroke=\"rgb(0,0,0)\"  stroke-width=\"2.0\"/>\n",
       "<line x1=\"109.3\" y1=\"80.0\" x2=\"74.6\" y2=\"100.0\" stroke=\"rgb(0,0,0)\"  stroke-width=\"2.0\"/>\n",
       "<line x1=\"74.6\" y1=\"100.0\" x2=\"74.6\" y2=\"140.0\" stroke=\"rgb(0,0,0)\"  stroke-width=\"2.0\"/>\n",
       "<text x=\"56.641016\" y=\"228.000000\" fill=\"rgb(255,12,12)\"  stroke=\"rgb(255,12,12)\" stroke-width=\"1\" font-size=\"16\" >HO</text>\n",
       "<text x=\"22.000000\" y=\"168.000000\" fill=\"rgb(255,12,12)\"  stroke=\"rgb(255,12,12)\" stroke-width=\"1\" font-size=\"16\" >HO</text>\n",
       "<text x=\"22.000000\" y=\"88.000000\" fill=\"rgb(255,12,12)\"  stroke=\"rgb(255,12,12)\" stroke-width=\"1\" font-size=\"16\" >HO</text>\n",
       "<text x=\"103.282032\" y=\"48.000000\" fill=\"rgb(255,12,12)\"  stroke=\"rgb(255,12,12)\" stroke-width=\"1\" font-size=\"16\" >OH</text>\n",
       "<text x=\"172.564065\" y=\"88.000000\" fill=\"rgb(255,12,12)\"  stroke=\"rgb(255,12,12)\" stroke-width=\"1\" font-size=\"16\" >OH</text>\n",
       "<text x=\"137.923048\" y=\"148.000000\" fill=\"rgb(255,12,12)\"  stroke=\"rgb(255,12,12)\" stroke-width=\"1\" font-size=\"16\" >O</text>\n",
       "</svg>\n",
       "</g>\n",
       "<text font-size=\"18.000000\" fill =\"black\" font-family=\"sans-serif\"\n",
       "x=\"10.000000\" y=\"20.000000\" ></text>\n",
       "</svg>"
      ],
      "text/plain": [
       "<marsi.chemistry.molecule.Molecule at 0x11eee5780>"
      ]
     },
     "execution_count": 6,
     "metadata": {},
     "output_type": "execute_result"
    }
   ],
   "source": [
    "glucose_molecule"
   ]
  },
  {
   "cell_type": "code",
   "execution_count": 7,
   "metadata": {},
   "outputs": [
    {
     "data": {
      "text/plain": [
       "0.439615"
      ]
     },
     "execution_count": 7,
     "metadata": {},
     "output_type": "execute_result"
    }
   ],
   "source": [
    "cutoff = dynamic_fingerprint_cut(glucose_molecule.num_atoms); cutoff"
   ]
  },
  {
   "cell_type": "code",
   "execution_count": 8,
   "metadata": {},
   "outputs": [
    {
     "name": "stderr",
     "output_type": "stream",
     "text": [
      "/usr/local/miniconda3/envs/marsi/lib/python3.5/site-packages/sklearn/utils/validation.py:475 \u001b[1;31mDataConversionWarning\u001b[0m: Data with input dtype int32 was converted to bool by check_pairwise_arrays.\n"
     ]
    },
    {
     "data": {
      "application/vnd.jupyter.widget-view+json": {
       "model_id": "d15efb16ecb9459a808dd98edc980007",
       "version_major": 2,
       "version_minor": 0
      },
      "text/html": [
       "<p>Failed to display Jupyter Widget of type <code>HBox</code>.</p>\n",
       "<p>\n",
       "  If you're reading this message in Jupyter Notebook or JupyterLab, it may mean\n",
       "  that the widgets JavaScript is still loading. If this message persists, it\n",
       "  likely means that the widgets JavaScript library is either not installed or\n",
       "  not enabled. See the <a href=\"https://ipywidgets.readthedocs.io/en/stable/user_install.html\">Jupyter\n",
       "  Widgets Documentation</a> for setup instructions.\n",
       "</p>\n",
       "<p>\n",
       "  If you're reading this message in another notebook frontend (for example, a static\n",
       "  rendering on GitHub or <a href=\"https://nbviewer.jupyter.org/\">NBViewer</a>),\n",
       "  it may mean that your frontend doesn't currently support widgets.\n",
       "</p>\n"
      ],
      "text/plain": [
       "HBox()"
      ]
     },
     "metadata": {},
     "output_type": "display_data"
    },
    {
     "name": "stderr",
     "output_type": "stream",
     "text": [
      "/Users/joaca/Documents/repositories/marsi/marsi/chemistry/rdkit.py:258 \u001b[1;31mDeprecationWarning\u001b[0m: The rdkit.Chem.MCS module is deprecated; please use rdkit.Chem.rdFMCS instead.\n"
     ]
    }
   ],
   "source": [
    "hits = search_closest_compounds(molecule=glucose_molecule, fp_cut=cutoff)"
   ]
  },
  {
   "cell_type": "code",
   "execution_count": 9,
   "metadata": {},
   "outputs": [
    {
     "data": {
      "text/html": [
       "<div>\n",
       "<style>\n",
       "    .dataframe thead tr:only-child th {\n",
       "        text-align: right;\n",
       "    }\n",
       "\n",
       "    .dataframe thead th {\n",
       "        text-align: left;\n",
       "    }\n",
       "\n",
       "    .dataframe tbody tr th {\n",
       "        vertical-align: top;\n",
       "    }\n",
       "</style>\n",
       "<table border=\"1\" class=\"dataframe\">\n",
       "  <thead>\n",
       "    <tr style=\"text-align: right;\">\n",
       "      <th></th>\n",
       "      <th>formula</th>\n",
       "      <th>atoms</th>\n",
       "      <th>bonds</th>\n",
       "      <th>tanimoto_similarity</th>\n",
       "      <th>structural_score</th>\n",
       "    </tr>\n",
       "  </thead>\n",
       "  <tbody>\n",
       "    <tr>\n",
       "      <th>MSWZFWKMSRAUBD-FQJSGBEDSA-N</th>\n",
       "      <td>C6H13NO5</td>\n",
       "      <td>25</td>\n",
       "      <td>25</td>\n",
       "      <td>0.777778</td>\n",
       "      <td>0.96</td>\n",
       "    </tr>\n",
       "    <tr>\n",
       "      <th>WCWOEQFAYSXBRK-FPRJBGLDSA-N</th>\n",
       "      <td>C6H13NO5</td>\n",
       "      <td>25</td>\n",
       "      <td>25</td>\n",
       "      <td>0.692308</td>\n",
       "      <td>0.96</td>\n",
       "    </tr>\n",
       "    <tr>\n",
       "      <th>MSWZFWKMSRAUBD-PHYPRBDBSA-N</th>\n",
       "      <td>C6H13NO5</td>\n",
       "      <td>25</td>\n",
       "      <td>25</td>\n",
       "      <td>0.777778</td>\n",
       "      <td>0.96</td>\n",
       "    </tr>\n",
       "    <tr>\n",
       "      <th>MSWZFWKMSRAUBD-HGVZOGFYSA-N</th>\n",
       "      <td>C6H13NO5</td>\n",
       "      <td>25</td>\n",
       "      <td>25</td>\n",
       "      <td>0.777778</td>\n",
       "      <td>0.96</td>\n",
       "    </tr>\n",
       "    <tr>\n",
       "      <th>WCWOEQFAYSXBRK-DVKNGEFBSA-N</th>\n",
       "      <td>C6H13NO5</td>\n",
       "      <td>25</td>\n",
       "      <td>25</td>\n",
       "      <td>0.692308</td>\n",
       "      <td>0.96</td>\n",
       "    </tr>\n",
       "    <tr>\n",
       "      <th>MSWZFWKMSRAUBD-UKFBFLRUSA-N</th>\n",
       "      <td>C6H13NO5</td>\n",
       "      <td>25</td>\n",
       "      <td>25</td>\n",
       "      <td>0.777778</td>\n",
       "      <td>0.96</td>\n",
       "    </tr>\n",
       "    <tr>\n",
       "      <th>WCWOEQFAYSXBRK-VFUOTHLCSA-N</th>\n",
       "      <td>C6H13NO5</td>\n",
       "      <td>25</td>\n",
       "      <td>25</td>\n",
       "      <td>0.692308</td>\n",
       "      <td>0.96</td>\n",
       "    </tr>\n",
       "    <tr>\n",
       "      <th>MSWZFWKMSRAUBD-QZABAPFNSA-N</th>\n",
       "      <td>C6H13NO5</td>\n",
       "      <td>25</td>\n",
       "      <td>25</td>\n",
       "      <td>0.777778</td>\n",
       "      <td>0.96</td>\n",
       "    </tr>\n",
       "    <tr>\n",
       "      <th>WCWOEQFAYSXBRK-QBFJYBIGSA-N</th>\n",
       "      <td>C6H13NO5</td>\n",
       "      <td>25</td>\n",
       "      <td>25</td>\n",
       "      <td>0.692308</td>\n",
       "      <td>0.96</td>\n",
       "    </tr>\n",
       "    <tr>\n",
       "      <th>MSWZFWKMSRAUBD-RDQKPOQOSA-N</th>\n",
       "      <td>C6H13NO5</td>\n",
       "      <td>25</td>\n",
       "      <td>25</td>\n",
       "      <td>0.777778</td>\n",
       "      <td>0.96</td>\n",
       "    </tr>\n",
       "    <tr>\n",
       "      <th>MSWZFWKMSRAUBD-TVIMKVIFSA-N</th>\n",
       "      <td>C6H13NO5</td>\n",
       "      <td>25</td>\n",
       "      <td>25</td>\n",
       "      <td>0.777778</td>\n",
       "      <td>0.96</td>\n",
       "    </tr>\n",
       "    <tr>\n",
       "      <th>WCWOEQFAYSXBRK-FQJSGBEDSA-N</th>\n",
       "      <td>C6H13NO5</td>\n",
       "      <td>25</td>\n",
       "      <td>25</td>\n",
       "      <td>0.692308</td>\n",
       "      <td>0.96</td>\n",
       "    </tr>\n",
       "    <tr>\n",
       "      <th>WCWOEQFAYSXBRK-GKFJPSPNSA-N</th>\n",
       "      <td>C6H13NO5</td>\n",
       "      <td>25</td>\n",
       "      <td>25</td>\n",
       "      <td>0.692308</td>\n",
       "      <td>0.96</td>\n",
       "    </tr>\n",
       "    <tr>\n",
       "      <th>MSWZFWKMSRAUBD-AIECOIEWSA-N</th>\n",
       "      <td>C6H13NO5</td>\n",
       "      <td>25</td>\n",
       "      <td>25</td>\n",
       "      <td>0.777778</td>\n",
       "      <td>0.96</td>\n",
       "    </tr>\n",
       "    <tr>\n",
       "      <th>MSWZFWKMSRAUBD-FPRJBGLDSA-N</th>\n",
       "      <td>C6H13NO5</td>\n",
       "      <td>25</td>\n",
       "      <td>25</td>\n",
       "      <td>0.777778</td>\n",
       "      <td>0.96</td>\n",
       "    </tr>\n",
       "  </tbody>\n",
       "</table>\n",
       "</div>"
      ],
      "text/plain": [
       "                              formula atoms bonds  tanimoto_similarity  \\\n",
       "MSWZFWKMSRAUBD-FQJSGBEDSA-N  C6H13NO5    25    25             0.777778   \n",
       "WCWOEQFAYSXBRK-FPRJBGLDSA-N  C6H13NO5    25    25             0.692308   \n",
       "MSWZFWKMSRAUBD-PHYPRBDBSA-N  C6H13NO5    25    25             0.777778   \n",
       "MSWZFWKMSRAUBD-HGVZOGFYSA-N  C6H13NO5    25    25             0.777778   \n",
       "WCWOEQFAYSXBRK-DVKNGEFBSA-N  C6H13NO5    25    25             0.692308   \n",
       "MSWZFWKMSRAUBD-UKFBFLRUSA-N  C6H13NO5    25    25             0.777778   \n",
       "WCWOEQFAYSXBRK-VFUOTHLCSA-N  C6H13NO5    25    25             0.692308   \n",
       "MSWZFWKMSRAUBD-QZABAPFNSA-N  C6H13NO5    25    25             0.777778   \n",
       "WCWOEQFAYSXBRK-QBFJYBIGSA-N  C6H13NO5    25    25             0.692308   \n",
       "MSWZFWKMSRAUBD-RDQKPOQOSA-N  C6H13NO5    25    25             0.777778   \n",
       "MSWZFWKMSRAUBD-TVIMKVIFSA-N  C6H13NO5    25    25             0.777778   \n",
       "WCWOEQFAYSXBRK-FQJSGBEDSA-N  C6H13NO5    25    25             0.692308   \n",
       "WCWOEQFAYSXBRK-GKFJPSPNSA-N  C6H13NO5    25    25             0.692308   \n",
       "MSWZFWKMSRAUBD-AIECOIEWSA-N  C6H13NO5    25    25             0.777778   \n",
       "MSWZFWKMSRAUBD-FPRJBGLDSA-N  C6H13NO5    25    25             0.777778   \n",
       "\n",
       "                             structural_score  \n",
       "MSWZFWKMSRAUBD-FQJSGBEDSA-N              0.96  \n",
       "WCWOEQFAYSXBRK-FPRJBGLDSA-N              0.96  \n",
       "MSWZFWKMSRAUBD-PHYPRBDBSA-N              0.96  \n",
       "MSWZFWKMSRAUBD-HGVZOGFYSA-N              0.96  \n",
       "WCWOEQFAYSXBRK-DVKNGEFBSA-N              0.96  \n",
       "MSWZFWKMSRAUBD-UKFBFLRUSA-N              0.96  \n",
       "WCWOEQFAYSXBRK-VFUOTHLCSA-N              0.96  \n",
       "MSWZFWKMSRAUBD-QZABAPFNSA-N              0.96  \n",
       "WCWOEQFAYSXBRK-QBFJYBIGSA-N              0.96  \n",
       "MSWZFWKMSRAUBD-RDQKPOQOSA-N              0.96  \n",
       "MSWZFWKMSRAUBD-TVIMKVIFSA-N              0.96  \n",
       "WCWOEQFAYSXBRK-FQJSGBEDSA-N              0.96  \n",
       "WCWOEQFAYSXBRK-GKFJPSPNSA-N              0.96  \n",
       "MSWZFWKMSRAUBD-AIECOIEWSA-N              0.96  \n",
       "MSWZFWKMSRAUBD-FPRJBGLDSA-N              0.96  "
      ]
     },
     "execution_count": 9,
     "metadata": {},
     "output_type": "execute_result"
    }
   ],
   "source": [
    "hits.sort_values('structural_score', ascending=False).head(15)"
   ]
  },
  {
   "cell_type": "code",
   "execution_count": 10,
   "metadata": {},
   "outputs": [],
   "source": [
    "from marsi.io.db import Metabolite"
   ]
  },
  {
   "cell_type": "code",
   "execution_count": 11,
   "metadata": {},
   "outputs": [
    {
     "data": {
      "text/html": [
       "\n",
       "<table>\n",
       "    <tbody>\n",
       "        <tr><td><strong>Formula</strong></td><td>C6H13NO5</td></tr>\n",
       "        <tr><td><strong>InChi</strong></td><td>InChI=1S/C6H13NO5/c7-6-5(11)4(10)3(9)2(1-8)12-6/h2-6,8-11H,1,7H2/t2-,3+,4+,5-,6-/m1/s1</td></tr>\n",
       "        <tr><td><strong>InChi Key</strong></td><td>WCWOEQFAYSXBRK-FPRJBGLDSA-N</td></tr>\n",
       "        <tr><td><strong>Structure</strong></td><td><?xml version=\"1.0\"?>\n",
       "<svg version=\"1.1\" id=\"topsvg\"\n",
       "xmlns=\"http://www.w3.org/2000/svg\" xmlns:xlink=\"http://www.w3.org/1999/xlink\"\n",
       "xmlns:cml=\"http://www.xml-cml.org/schema\" x=\"0\" y=\"0\" width=\"200px\" height=\"200px\" viewBox=\"0 0 100 100\">\n",
       "<title> - Open Babel Depiction</title>\n",
       "<rect x=\"0\" y=\"0\" width=\"100\" height=\"100\" fill=\"white\"/>\n",
       "<g transform=\"translate(0,0)\">\n",
       "<svg width=\"100\" height=\"100\" x=\"0\" y=\"0\" viewBox=\"0 0 218.564 260\"\n",
       "font-family=\"sans-serif\" stroke=\"rgb(0,0,0)\" stroke-width=\"2\"  stroke-linecap=\"round\">\n",
       "<line x1=\"109.3\" y1=\"200.0\" x2=\"85.9\" y2=\"213.5\" stroke=\"rgb(0,0,0)\"  stroke-width=\"2.0\"/>\n",
       "<polygon points=\"143.923048 100.000000 165.132529 83.135898 169.132529 90.064102 \" stroke-width=\"2.000000\" fill=\"rgb(0,0,0)\"  stroke=\"rgb(0,0,0)\" />\n",
       "<polygon points=\"74.641016 100.000000 49.431535 90.064102 53.431535 83.135898 \" stroke-width=\"2.000000\" fill=\"rgb(0,0,0)\"  stroke=\"rgb(0,0,0)\" />\n",
       "<polygon points=\"109.282032 160.000000 113.282032 200.000000 105.282032 200.000000 \" stroke-width=\"2.000000\" fill=\"rgb(0,0,0)\"  stroke=\"rgb(0,0,0)\" />\n",
       "<polygon points=\"143.923048 140.000000 169.132529 149.935898 165.132529 156.864102 \" stroke-width=\"2.000000\" fill=\"rgb(0,0,0)\"  stroke=\"rgb(0,0,0)\" />\n",
       "<line x1=\"108.5\" y1=\"74.6\" x2=\"110.1\" y2=\"74.6\" stroke=\"rgb(0,0,0)\"  stroke-width=\"1.0\"/>\n",
       "<line x1=\"107.8\" y1=\"70.4\" x2=\"110.7\" y2=\"70.4\" stroke=\"rgb(0,0,0)\"  stroke-width=\"1.0\"/>\n",
       "<line x1=\"107.2\" y1=\"66.1\" x2=\"111.4\" y2=\"66.1\" stroke=\"rgb(0,0,0)\"  stroke-width=\"1.0\"/>\n",
       "<line x1=\"106.6\" y1=\"61.8\" x2=\"112.0\" y2=\"61.8\" stroke=\"rgb(0,0,0)\"  stroke-width=\"1.0\"/>\n",
       "<line x1=\"105.9\" y1=\"57.5\" x2=\"112.6\" y2=\"57.5\" stroke=\"rgb(0,0,0)\"  stroke-width=\"1.0\"/>\n",
       "<line x1=\"105.3\" y1=\"53.2\" x2=\"113.3\" y2=\"53.2\" stroke=\"rgb(0,0,0)\"  stroke-width=\"1.0\"/>\n",
       "<line x1=\"143.9\" y1=\"100.0\" x2=\"109.3\" y2=\"80.0\" stroke=\"rgb(0,0,0)\"  stroke-width=\"2.0\"/>\n",
       "<line x1=\"109.3\" y1=\"80.0\" x2=\"74.6\" y2=\"100.0\" stroke=\"rgb(0,0,0)\"  stroke-width=\"2.0\"/>\n",
       "<line x1=\"74.6\" y1=\"100.0\" x2=\"74.6\" y2=\"127.0\" stroke=\"rgb(0,0,0)\"  stroke-width=\"2.0\"/>\n",
       "<line x1=\"85.9\" y1=\"146.5\" x2=\"109.3\" y2=\"160.0\" stroke=\"rgb(0,0,0)\"  stroke-width=\"2.0\"/>\n",
       "<line x1=\"109.3\" y1=\"160.0\" x2=\"143.9\" y2=\"140.0\" stroke=\"rgb(0,0,0)\"  stroke-width=\"2.0\"/>\n",
       "<line x1=\"143.9\" y1=\"140.0\" x2=\"143.9\" y2=\"100.0\" stroke=\"rgb(0,0,0)\"  stroke-width=\"2.0\"/>\n",
       "<text x=\"68.641016\" y=\"148.000000\" fill=\"rgb(255,12,12)\"  stroke=\"rgb(255,12,12)\" stroke-width=\"1\" font-size=\"16\" >O</text>\n",
       "<text x=\"14.000000\" y=\"88.000000\" fill=\"rgb(12,12,255)\"  stroke=\"rgb(12,12,255)\" stroke-width=\"1\" font-size=\"16\" >H</text>\n",
       "<text x=\"26.000000\" y=\"91.680000\" fill=\"rgb(12,12,255)\"  stroke=\"rgb(12,12,255)\" stroke-width=\"1\" font-size=\"13\" >2</text>\n",
       "<text x=\"32.500000\" y=\"88.000000\" fill=\"rgb(12,12,255)\"  stroke=\"rgb(12,12,255)\" stroke-width=\"1\" font-size=\"16\" >N</text>\n",
       "<text x=\"103.282032\" y=\"48.000000\" fill=\"rgb(255,12,12)\"  stroke=\"rgb(255,12,12)\" stroke-width=\"1\" font-size=\"16\" >OH</text>\n",
       "<text x=\"172.564065\" y=\"88.000000\" fill=\"rgb(255,12,12)\"  stroke=\"rgb(255,12,12)\" stroke-width=\"1\" font-size=\"16\" >OH</text>\n",
       "<text x=\"172.564065\" y=\"168.000000\" fill=\"rgb(255,12,12)\"  stroke=\"rgb(255,12,12)\" stroke-width=\"1\" font-size=\"16\" >OH</text>\n",
       "<text x=\"56.641016\" y=\"228.000000\" fill=\"rgb(255,12,12)\"  stroke=\"rgb(255,12,12)\" stroke-width=\"1\" font-size=\"16\" >HO</text>\n",
       "</svg>\n",
       "</g>\n",
       "<text font-size=\"18.000000\" fill =\"black\" font-family=\"sans-serif\"\n",
       "x=\"10.000000\" y=\"20.000000\" ></text>\n",
       "</svg></td></tr>\n",
       "        <tr><td><strong>DBs</strong></td><td>zinc: ZINC13544123</td></tr>\n",
       "        <tr><td><strong>Synonyms</strong></td><td></td></tr>\n",
       "    </tbody>\n",
       "</table>"
      ],
      "text/plain": [
       "Metabolite WCWOEQFAYSXBRK-FPRJBGLDSA-N [zinc: ZINC13544123]"
      ]
     },
     "execution_count": 11,
     "metadata": {},
     "output_type": "execute_result"
    }
   ],
   "source": [
    "Metabolite.get('WCWOEQFAYSXBRK-FPRJBGLDSA-N')"
   ]
  },
  {
   "cell_type": "code",
   "execution_count": 12,
   "metadata": {},
   "outputs": [
    {
     "data": {
      "text/html": [
       "\n",
       "<table>\n",
       "    <tbody>\n",
       "        <tr><td><strong>Formula</strong></td><td>C6H13NO5</td></tr>\n",
       "        <tr><td><strong>InChi</strong></td><td>InChI=1S/C6H13NO5/c7-6-5(11)4(10)3(9)2(1-8)12-6/h2-6,8-11H,1,7H2/t2-,3+,4+,5+,6-/m1/s1</td></tr>\n",
       "        <tr><td><strong>InChi Key</strong></td><td>WCWOEQFAYSXBRK-QBFJYBIGSA-N</td></tr>\n",
       "        <tr><td><strong>Structure</strong></td><td><?xml version=\"1.0\"?>\n",
       "<svg version=\"1.1\" id=\"topsvg\"\n",
       "xmlns=\"http://www.w3.org/2000/svg\" xmlns:xlink=\"http://www.w3.org/1999/xlink\"\n",
       "xmlns:cml=\"http://www.xml-cml.org/schema\" x=\"0\" y=\"0\" width=\"200px\" height=\"200px\" viewBox=\"0 0 100 100\">\n",
       "<title> - Open Babel Depiction</title>\n",
       "<rect x=\"0\" y=\"0\" width=\"100\" height=\"100\" fill=\"white\"/>\n",
       "<g transform=\"translate(0,0)\">\n",
       "<svg width=\"100\" height=\"100\" x=\"0\" y=\"0\" viewBox=\"0 0 218.564 260\"\n",
       "font-family=\"sans-serif\" stroke=\"rgb(0,0,0)\" stroke-width=\"2\"  stroke-linecap=\"round\">\n",
       "<line x1=\"109.3\" y1=\"200.0\" x2=\"85.9\" y2=\"213.5\" stroke=\"rgb(0,0,0)\"  stroke-width=\"2.0\"/>\n",
       "<polygon points=\"143.923048 100.000000 165.132529 83.135898 169.132529 90.064102 \" stroke-width=\"2.000000\" fill=\"rgb(0,0,0)\"  stroke=\"rgb(0,0,0)\" />\n",
       "<polygon points=\"109.282032 80.000000 105.282032 53.200000 113.282032 53.200000 \" stroke-width=\"2.000000\" fill=\"rgb(0,0,0)\"  stroke=\"rgb(0,0,0)\" />\n",
       "<polygon points=\"74.641016 100.000000 49.431535 90.064102 53.431535 83.135898 \" stroke-width=\"2.000000\" fill=\"rgb(0,0,0)\"  stroke=\"rgb(0,0,0)\" />\n",
       "<polygon points=\"109.282032 160.000000 113.282032 200.000000 105.282032 200.000000 \" stroke-width=\"2.000000\" fill=\"rgb(0,0,0)\"  stroke=\"rgb(0,0,0)\" />\n",
       "<polygon points=\"143.923048 140.000000 169.132529 149.935898 165.132529 156.864102 \" stroke-width=\"2.000000\" fill=\"rgb(0,0,0)\"  stroke=\"rgb(0,0,0)\" />\n",
       "<line x1=\"143.9\" y1=\"100.0\" x2=\"109.3\" y2=\"80.0\" stroke=\"rgb(0,0,0)\"  stroke-width=\"2.0\"/>\n",
       "<line x1=\"109.3\" y1=\"80.0\" x2=\"74.6\" y2=\"100.0\" stroke=\"rgb(0,0,0)\"  stroke-width=\"2.0\"/>\n",
       "<line x1=\"74.6\" y1=\"100.0\" x2=\"74.6\" y2=\"127.0\" stroke=\"rgb(0,0,0)\"  stroke-width=\"2.0\"/>\n",
       "<line x1=\"85.9\" y1=\"146.5\" x2=\"109.3\" y2=\"160.0\" stroke=\"rgb(0,0,0)\"  stroke-width=\"2.0\"/>\n",
       "<line x1=\"109.3\" y1=\"160.0\" x2=\"143.9\" y2=\"140.0\" stroke=\"rgb(0,0,0)\"  stroke-width=\"2.0\"/>\n",
       "<line x1=\"143.9\" y1=\"140.0\" x2=\"143.9\" y2=\"100.0\" stroke=\"rgb(0,0,0)\"  stroke-width=\"2.0\"/>\n",
       "<text x=\"68.641016\" y=\"148.000000\" fill=\"rgb(255,12,12)\"  stroke=\"rgb(255,12,12)\" stroke-width=\"1\" font-size=\"16\" >O</text>\n",
       "<text x=\"14.000000\" y=\"88.000000\" fill=\"rgb(12,12,255)\"  stroke=\"rgb(12,12,255)\" stroke-width=\"1\" font-size=\"16\" >H</text>\n",
       "<text x=\"26.000000\" y=\"91.680000\" fill=\"rgb(12,12,255)\"  stroke=\"rgb(12,12,255)\" stroke-width=\"1\" font-size=\"13\" >2</text>\n",
       "<text x=\"32.500000\" y=\"88.000000\" fill=\"rgb(12,12,255)\"  stroke=\"rgb(12,12,255)\" stroke-width=\"1\" font-size=\"16\" >N</text>\n",
       "<text x=\"103.282032\" y=\"48.000000\" fill=\"rgb(255,12,12)\"  stroke=\"rgb(255,12,12)\" stroke-width=\"1\" font-size=\"16\" >OH</text>\n",
       "<text x=\"172.564065\" y=\"88.000000\" fill=\"rgb(255,12,12)\"  stroke=\"rgb(255,12,12)\" stroke-width=\"1\" font-size=\"16\" >OH</text>\n",
       "<text x=\"172.564065\" y=\"168.000000\" fill=\"rgb(255,12,12)\"  stroke=\"rgb(255,12,12)\" stroke-width=\"1\" font-size=\"16\" >OH</text>\n",
       "<text x=\"56.641016\" y=\"228.000000\" fill=\"rgb(255,12,12)\"  stroke=\"rgb(255,12,12)\" stroke-width=\"1\" font-size=\"16\" >HO</text>\n",
       "</svg>\n",
       "</g>\n",
       "<text font-size=\"18.000000\" fill =\"black\" font-family=\"sans-serif\"\n",
       "x=\"10.000000\" y=\"20.000000\" ></text>\n",
       "</svg></td></tr>\n",
       "        <tr><td><strong>DBs</strong></td><td>zinc: ZINC22059796</td></tr>\n",
       "        <tr><td><strong>Synonyms</strong></td><td></td></tr>\n",
       "    </tbody>\n",
       "</table>"
      ],
      "text/plain": [
       "Metabolite WCWOEQFAYSXBRK-QBFJYBIGSA-N [zinc: ZINC22059796]"
      ]
     },
     "execution_count": 12,
     "metadata": {},
     "output_type": "execute_result"
    }
   ],
   "source": [
    "Metabolite.get('WCWOEQFAYSXBRK-QBFJYBIGSA-N')"
   ]
  },
  {
   "cell_type": "code",
   "execution_count": 13,
   "metadata": {},
   "outputs": [
    {
     "data": {
      "text/html": [
       "\n",
       "<table>\n",
       "    <tbody>\n",
       "        <tr><td><strong>Formula</strong></td><td>C6H11FO5</td></tr>\n",
       "        <tr><td><strong>InChi</strong></td><td>InChI=1S/C6H11FO5/c7-3-5(10)4(9)2(1-8)12-6(3)11/h2-6,8-11H,1H2/t2-,3-,4-,5+,6+/m0/s1</td></tr>\n",
       "        <tr><td><strong>InChi Key</strong></td><td>ZCXUVYAZINUVJD-FQJSGBEDSA-N</td></tr>\n",
       "        <tr><td><strong>Structure</strong></td><td><?xml version=\"1.0\"?>\n",
       "<svg version=\"1.1\" id=\"topsvg\"\n",
       "xmlns=\"http://www.w3.org/2000/svg\" xmlns:xlink=\"http://www.w3.org/1999/xlink\"\n",
       "xmlns:cml=\"http://www.xml-cml.org/schema\" x=\"0\" y=\"0\" width=\"200px\" height=\"200px\" viewBox=\"0 0 100 100\">\n",
       "<title> - Open Babel Depiction</title>\n",
       "<rect x=\"0\" y=\"0\" width=\"100\" height=\"100\" fill=\"white\"/>\n",
       "<g transform=\"translate(0,0)\">\n",
       "<svg width=\"100\" height=\"100\" x=\"0\" y=\"0\" viewBox=\"0 0 218.564 260\"\n",
       "font-family=\"sans-serif\" stroke=\"rgb(0,0,0)\" stroke-width=\"2\"  stroke-linecap=\"round\">\n",
       "<line x1=\"110.1\" y1=\"168.0\" x2=\"108.5\" y2=\"168.0\" stroke=\"rgb(0,0,0)\"  stroke-width=\"1.0\"/>\n",
       "<line x1=\"110.7\" y1=\"174.4\" x2=\"107.8\" y2=\"174.4\" stroke=\"rgb(0,0,0)\"  stroke-width=\"1.0\"/>\n",
       "<line x1=\"111.4\" y1=\"180.8\" x2=\"107.2\" y2=\"180.8\" stroke=\"rgb(0,0,0)\"  stroke-width=\"1.0\"/>\n",
       "<line x1=\"112.0\" y1=\"187.2\" x2=\"106.6\" y2=\"187.2\" stroke=\"rgb(0,0,0)\"  stroke-width=\"1.0\"/>\n",
       "<line x1=\"112.6\" y1=\"193.6\" x2=\"105.9\" y2=\"193.6\" stroke=\"rgb(0,0,0)\"  stroke-width=\"1.0\"/>\n",
       "<line x1=\"113.3\" y1=\"200.0\" x2=\"105.3\" y2=\"200.0\" stroke=\"rgb(0,0,0)\"  stroke-width=\"1.0\"/>\n",
       "<line x1=\"109.3\" y1=\"200.0\" x2=\"85.9\" y2=\"213.5\" stroke=\"rgb(0,0,0)\"  stroke-width=\"2.0\"/>\n",
       "<polygon points=\"143.923048 100.000000 165.132529 83.135898 169.132529 90.064102 \" stroke-width=\"2.000000\" fill=\"rgb(0,0,0)\"  stroke=\"rgb(0,0,0)\" />\n",
       "<polygon points=\"109.282032 80.000000 105.282032 53.200000 113.282032 53.200000 \" stroke-width=\"2.000000\" fill=\"rgb(0,0,0)\"  stroke=\"rgb(0,0,0)\" />\n",
       "<polygon points=\"74.641016 100.000000 49.431535 90.064102 53.431535 83.135898 \" stroke-width=\"2.000000\" fill=\"rgb(0,0,0)\"  stroke=\"rgb(0,0,0)\" />\n",
       "<polygon points=\"143.923048 140.000000 169.132529 149.935898 165.132529 156.864102 \" stroke-width=\"2.000000\" fill=\"rgb(0,0,0)\"  stroke=\"rgb(0,0,0)\" />\n",
       "<line x1=\"143.9\" y1=\"100.0\" x2=\"109.3\" y2=\"80.0\" stroke=\"rgb(0,0,0)\"  stroke-width=\"2.0\"/>\n",
       "<line x1=\"109.3\" y1=\"80.0\" x2=\"74.6\" y2=\"100.0\" stroke=\"rgb(0,0,0)\"  stroke-width=\"2.0\"/>\n",
       "<line x1=\"74.6\" y1=\"100.0\" x2=\"74.6\" y2=\"127.0\" stroke=\"rgb(0,0,0)\"  stroke-width=\"2.0\"/>\n",
       "<line x1=\"85.9\" y1=\"146.5\" x2=\"109.3\" y2=\"160.0\" stroke=\"rgb(0,0,0)\"  stroke-width=\"2.0\"/>\n",
       "<line x1=\"109.3\" y1=\"160.0\" x2=\"143.9\" y2=\"140.0\" stroke=\"rgb(0,0,0)\"  stroke-width=\"2.0\"/>\n",
       "<line x1=\"143.9\" y1=\"140.0\" x2=\"143.9\" y2=\"100.0\" stroke=\"rgb(0,0,0)\"  stroke-width=\"2.0\"/>\n",
       "<text x=\"68.641016\" y=\"148.000000\" fill=\"rgb(255,12,12)\"  stroke=\"rgb(255,12,12)\" stroke-width=\"1\" font-size=\"16\" >O</text>\n",
       "<text x=\"22.000000\" y=\"88.000000\" fill=\"rgb(255,12,12)\"  stroke=\"rgb(255,12,12)\" stroke-width=\"1\" font-size=\"16\" >HO</text>\n",
       "<text x=\"103.282032\" y=\"48.000000\" fill=\"rgb(127,178,255)\"  stroke=\"rgb(127,178,255)\" stroke-width=\"1\" font-size=\"16\" >F</text>\n",
       "<text x=\"172.564065\" y=\"88.000000\" fill=\"rgb(255,12,12)\"  stroke=\"rgb(255,12,12)\" stroke-width=\"1\" font-size=\"16\" >OH</text>\n",
       "<text x=\"172.564065\" y=\"168.000000\" fill=\"rgb(255,12,12)\"  stroke=\"rgb(255,12,12)\" stroke-width=\"1\" font-size=\"16\" >OH</text>\n",
       "<text x=\"56.641016\" y=\"228.000000\" fill=\"rgb(255,12,12)\"  stroke=\"rgb(255,12,12)\" stroke-width=\"1\" font-size=\"16\" >HO</text>\n",
       "</svg>\n",
       "</g>\n",
       "<text font-size=\"18.000000\" fill =\"black\" font-family=\"sans-serif\"\n",
       "x=\"10.000000\" y=\"20.000000\" ></text>\n",
       "</svg></td></tr>\n",
       "        <tr><td><strong>DBs</strong></td><td>zinc: ZINC04544631</td></tr>\n",
       "        <tr><td><strong>Synonyms</strong></td><td></td></tr>\n",
       "    </tbody>\n",
       "</table>"
      ],
      "text/plain": [
       "Metabolite ZCXUVYAZINUVJD-FQJSGBEDSA-N [zinc: ZINC04544631]"
      ]
     },
     "execution_count": 13,
     "metadata": {},
     "output_type": "execute_result"
    }
   ],
   "source": [
    "Metabolite.get('ZCXUVYAZINUVJD-FQJSGBEDSA-N')"
   ]
  },
  {
   "cell_type": "code",
   "execution_count": null,
   "metadata": {},
   "outputs": [],
   "source": []
  }
 ],
 "metadata": {
  "kernelspec": {
   "display_name": "Python 3",
   "language": "python",
   "name": "python3"
  },
  "language_info": {
   "codemirror_mode": {
    "name": "ipython",
    "version": 3
   },
   "file_extension": ".py",
   "mimetype": "text/x-python",
   "name": "python",
   "nbconvert_exporter": "python",
   "pygments_lexer": "ipython3",
   "version": "3.5.4"
  }
 },
 "nbformat": 4,
 "nbformat_minor": 2
}
