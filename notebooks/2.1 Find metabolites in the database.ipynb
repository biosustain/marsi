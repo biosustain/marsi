{
 "cells": [
  {
   "cell_type": "code",
   "execution_count": 1,
   "metadata": {
    "collapsed": true
   },
   "outputs": [],
   "source": [
    "from mongoengine import connect"
   ]
  },
  {
   "cell_type": "code",
   "execution_count": 2,
   "metadata": {
    "collapsed": false
   },
   "outputs": [
    {
     "data": {
      "text/plain": [
       "MongoClient(host=['localhost:27017'], document_class=dict, tz_aware=False, connect=True, read_preference=Primary())"
      ]
     },
     "execution_count": 2,
     "metadata": {},
     "output_type": "execute_result"
    }
   ],
   "source": [
    "# Connect to your local database\n",
    "connect('marsi-db')"
   ]
  },
  {
   "cell_type": "code",
   "execution_count": 3,
   "metadata": {
    "collapsed": true
   },
   "outputs": [],
   "source": [
    "from marsi.io.mongodb import Metabolite, Reference"
   ]
  },
  {
   "cell_type": "markdown",
   "metadata": {},
   "source": [
    "#### Metabolites are indexed using InChI key.\n",
    "\n",
    "For example:\n",
    "1. 2-Deoxy-Glucose: PMMURAAUARKVCB-CERMHHMHSA-N-D\n",
    "2. Norvaline: SNDPXSYFESPGGJ-SCSAIBSYSA-N"
   ]
  },
  {
   "cell_type": "code",
   "execution_count": 4,
   "metadata": {
    "collapsed": false
   },
   "outputs": [
    {
     "data": {
      "text/html": [
       "<table>\n",
       "    <tbody>\n",
       "        <tr><td><strong>InChi</strong></td><td>InChI=1S/C6H12O5/c7-2-4-6(10)3(8)1-5(9)11-4/h3-10H,1-2H2/t3-,4-,5?,6+/m1/s1</td></tr>\n",
       "        <tr><td><strong>InChi Key</strong></td><td>PMMURAAUARKVCB-CERMHHMHSA-N</td></tr>\n",
       "        <tr><td><strong>Structure</strong></td><td><?xml version=\"1.0\"?>\n",
       "<svg version=\"1.1\" id=\"topsvg\"\n",
       "xmlns=\"http://www.w3.org/2000/svg\" xmlns:xlink=\"http://www.w3.org/1999/xlink\"\n",
       "xmlns:cml=\"http://www.xml-cml.org/schema\" x=\"0\" y=\"0\" width=\"200px\" height=\"200px\" viewBox=\"0 0 100 100\">\n",
       "<title> - Open Babel Depiction</title>\n",
       "<rect x=\"0\" y=\"0\" width=\"100\" height=\"100\" fill=\"white\"/>\n",
       "<g transform=\"translate(0,0)\">\n",
       "<svg width=\"100\" height=\"100\" x=\"0\" y=\"0\" viewBox=\"0 0 309.282 214.641\"\n",
       "font-family=\"sans-serif\" stroke=\"rgb(0,0,0)\" stroke-width=\"2\"  stroke-linecap=\"round\">\n",
       "<line x1=\"202.3\" y1=\"154.6\" x2=\"216.3\" y2=\"154.6\" stroke=\"rgb(0,0,0)\"  stroke-width=\"2.0\"/>\n",
       "<line x1=\"101.6\" y1=\"174.6\" x2=\"87.6\" y2=\"174.6\" stroke=\"rgb(0,0,0)\"  stroke-width=\"2.0\"/>\n",
       "<line x1=\"86.5\" y1=\"56.6\" x2=\"100.0\" y2=\"80.0\" stroke=\"rgb(0,0,0)\"  stroke-width=\"2.0\"/>\n",
       "<line x1=\"67.0\" y1=\"45.4\" x2=\"53.0\" y2=\"45.4\" stroke=\"rgb(0,0,0)\"  stroke-width=\"2.0\"/>\n",
       "<line x1=\"222.8\" y1=\"103.4\" x2=\"209.3\" y2=\"80.0\" stroke=\"rgb(0,0,0)\"  stroke-width=\"2.0\"/>\n",
       "<line x1=\"242.3\" y1=\"114.6\" x2=\"256.3\" y2=\"114.6\" stroke=\"rgb(0,0,0)\"  stroke-width=\"2.0\"/>\n",
       "<line x1=\"162.8\" y1=\"124.7\" x2=\"162.0\" y2=\"123.3\" stroke=\"rgb(0,0,0)\"  stroke-width=\"1.0\"/>\n",
       "<line x1=\"157.5\" y1=\"128.4\" x2=\"156.1\" y2=\"126.0\" stroke=\"rgb(0,0,0)\"  stroke-width=\"1.0\"/>\n",
       "<line x1=\"152.3\" y1=\"132.2\" x2=\"150.2\" y2=\"128.6\" stroke=\"rgb(0,0,0)\"  stroke-width=\"1.0\"/>\n",
       "<line x1=\"147.1\" y1=\"136.0\" x2=\"144.4\" y2=\"131.2\" stroke=\"rgb(0,0,0)\"  stroke-width=\"1.0\"/>\n",
       "<line x1=\"141.9\" y1=\"139.7\" x2=\"138.5\" y2=\"133.9\" stroke=\"rgb(0,0,0)\"  stroke-width=\"1.0\"/>\n",
       "<line x1=\"136.6\" y1=\"143.5\" x2=\"132.6\" y2=\"136.5\" stroke=\"rgb(0,0,0)\"  stroke-width=\"1.0\"/>\n",
       "<line x1=\"134.6\" y1=\"140.0\" x2=\"121.1\" y2=\"163.4\" stroke=\"rgb(0,0,0)\"  stroke-width=\"2.0\"/>\n",
       "<polygon points=\"134.641016 140.000000 151.505118 161.209481 144.576915 165.209481 \" stroke-width=\"2.000000\" fill=\"rgb(0,0,0)\"  stroke=\"rgb(0,0,0)\" />\n",
       "<polygon points=\"169.282032 80.000000 173.282032 120.000000 165.282032 120.000000 \" stroke-width=\"2.000000\" fill=\"rgb(0,0,0)\"  stroke=\"rgb(0,0,0)\" />\n",
       "<line x1=\"169.3\" y1=\"80.0\" x2=\"209.3\" y2=\"80.0\" stroke=\"rgb(0,0,0)\"  stroke-width=\"2.0\"/>\n",
       "<line x1=\"169.3\" y1=\"80.0\" x2=\"182.8\" y2=\"56.6\" stroke=\"rgb(0,0,0)\"  stroke-width=\"2.0\"/>\n",
       "<line x1=\"100.0\" y1=\"120.0\" x2=\"73.0\" y2=\"120.0\" stroke=\"rgb(0,0,0)\"  stroke-width=\"2.0\"/>\n",
       "<line x1=\"100.0\" y1=\"120.0\" x2=\"86.5\" y2=\"143.4\" stroke=\"rgb(0,0,0)\"  stroke-width=\"2.0\"/>\n",
       "<line x1=\"100.0\" y1=\"80.0\" x2=\"73.0\" y2=\"80.0\" stroke=\"rgb(0,0,0)\"  stroke-width=\"2.0\"/>\n",
       "<line x1=\"209.3\" y1=\"80.0\" x2=\"232.7\" y2=\"66.5\" stroke=\"rgb(0,0,0)\"  stroke-width=\"2.0\"/>\n",
       "<line x1=\"209.3\" y1=\"80.0\" x2=\"209.3\" y2=\"53.0\" stroke=\"rgb(0,0,0)\"  stroke-width=\"2.0\"/>\n",
       "<line x1=\"169.3\" y1=\"120.0\" x2=\"196.3\" y2=\"120.0\" stroke=\"rgb(0,0,0)\"  stroke-width=\"2.0\"/>\n",
       "<line x1=\"169.3\" y1=\"120.0\" x2=\"182.8\" y2=\"143.4\" stroke=\"rgb(0,0,0)\"  stroke-width=\"2.0\"/>\n",
       "<line x1=\"169.3\" y1=\"120.0\" x2=\"169.3\" y2=\"80.0\" stroke=\"rgb(0,0,0)\"  stroke-width=\"2.0\"/>\n",
       "<line x1=\"169.3\" y1=\"80.0\" x2=\"145.9\" y2=\"66.5\" stroke=\"rgb(0,0,0)\"  stroke-width=\"2.0\"/>\n",
       "<line x1=\"123.4\" y1=\"66.5\" x2=\"100.0\" y2=\"80.0\" stroke=\"rgb(0,0,0)\"  stroke-width=\"2.0\"/>\n",
       "<line x1=\"100.0\" y1=\"80.0\" x2=\"100.0\" y2=\"120.0\" stroke=\"rgb(0,0,0)\"  stroke-width=\"2.0\"/>\n",
       "<line x1=\"100.0\" y1=\"120.0\" x2=\"134.6\" y2=\"140.0\" stroke=\"rgb(0,0,0)\"  stroke-width=\"2.0\"/>\n",
       "<line x1=\"134.6\" y1=\"140.0\" x2=\"169.3\" y2=\"120.0\" stroke=\"rgb(0,0,0)\"  stroke-width=\"2.0\"/>\n",
       "<text x=\"128.641016\" y=\"68.000000\" fill=\"rgb(255,12,12)\"  stroke=\"rgb(255,12,12)\" stroke-width=\"1\" font-size=\"16\" >O</text>\n",
       "<text x=\"183.282032\" y=\"162.641016\" fill=\"rgb(255,12,12)\"  stroke=\"rgb(255,12,12)\" stroke-width=\"1\" font-size=\"16\" >O</text>\n",
       "<text x=\"108.641016\" y=\"182.641016\" fill=\"rgb(255,12,12)\"  stroke=\"rgb(255,12,12)\" stroke-width=\"1\" font-size=\"16\" >O</text>\n",
       "<text x=\"74.000000\" y=\"53.358984\" fill=\"rgb(255,12,12)\"  stroke=\"rgb(255,12,12)\" stroke-width=\"1\" font-size=\"16\" >O</text>\n",
       "<text x=\"223.282032\" y=\"122.641016\" fill=\"rgb(255,12,12)\"  stroke=\"rgb(255,12,12)\" stroke-width=\"1\" font-size=\"16\" >O</text>\n",
       "<text x=\"203.282032\" y=\"128.000000\" fill=\"rgb(191,191,191)\"  stroke=\"rgb(191,191,191)\" stroke-width=\"1\" font-size=\"16\" >H</text>\n",
       "<text x=\"148.641016\" y=\"182.641016\" fill=\"rgb(191,191,191)\"  stroke=\"rgb(191,191,191)\" stroke-width=\"1\" font-size=\"16\" >H</text>\n",
       "<text x=\"183.282032\" y=\"53.358984\" fill=\"rgb(191,191,191)\"  stroke=\"rgb(191,191,191)\" stroke-width=\"1\" font-size=\"16\" >H</text>\n",
       "<text x=\"54.000000\" y=\"128.000000\" fill=\"rgb(191,191,191)\"  stroke=\"rgb(191,191,191)\" stroke-width=\"1\" font-size=\"16\" >H</text>\n",
       "<text x=\"74.000000\" y=\"162.641016\" fill=\"rgb(191,191,191)\"  stroke=\"rgb(191,191,191)\" stroke-width=\"1\" font-size=\"16\" >H</text>\n",
       "<text x=\"54.000000\" y=\"88.000000\" fill=\"rgb(191,191,191)\"  stroke=\"rgb(191,191,191)\" stroke-width=\"1\" font-size=\"16\" >H</text>\n",
       "<text x=\"237.923048\" y=\"68.000000\" fill=\"rgb(191,191,191)\"  stroke=\"rgb(191,191,191)\" stroke-width=\"1\" font-size=\"16\" >H</text>\n",
       "<text x=\"203.282032\" y=\"48.000000\" fill=\"rgb(191,191,191)\"  stroke=\"rgb(191,191,191)\" stroke-width=\"1\" font-size=\"16\" >H</text>\n",
       "<text x=\"223.282032\" y=\"162.641016\" fill=\"rgb(191,191,191)\"  stroke=\"rgb(191,191,191)\" stroke-width=\"1\" font-size=\"16\" >H</text>\n",
       "<text x=\"68.641016\" y=\"182.641016\" fill=\"rgb(191,191,191)\"  stroke=\"rgb(191,191,191)\" stroke-width=\"1\" font-size=\"16\" >H</text>\n",
       "<text x=\"34.000000\" y=\"53.358984\" fill=\"rgb(191,191,191)\"  stroke=\"rgb(191,191,191)\" stroke-width=\"1\" font-size=\"16\" >H</text>\n",
       "<text x=\"263.282032\" y=\"122.641016\" fill=\"rgb(191,191,191)\"  stroke=\"rgb(191,191,191)\" stroke-width=\"1\" font-size=\"16\" >H</text>\n",
       "</svg>\n",
       "</g>\n",
       "<text font-size=\"18.000000\" fill =\"black\" font-family=\"sans-serif\"\n",
       "x=\"10.000000\" y=\"20.000000\" ></text>\n",
       "</svg></td></tr>\n",
       "        <tr><td><strong>DBs</strong></td><td>drugbank: DB08831; pubchem: 439268</td></tr>\n",
       "        <tr><td><strong>Formula</strong></td><td>C6H12O5</td></tr>\n",
       "    </tbody>\n",
       "</table>"
      ],
      "text/plain": [
       "Metabolite PMMURAAUARKVCB-CERMHHMHSA-N [drugbank: DB08831, pubchem: 439268]"
      ]
     },
     "execution_count": 4,
     "metadata": {},
     "output_type": "execute_result"
    }
   ],
   "source": [
    "Metabolite.get('PMMURAAUARKVCB-CERMHHMHSA-N')"
   ]
  },
  {
   "cell_type": "code",
   "execution_count": 5,
   "metadata": {
    "collapsed": false
   },
   "outputs": [
    {
     "data": {
      "text/html": [
       "<table>\n",
       "    <tbody>\n",
       "        <tr><td><strong>InChi</strong></td><td>InChI=1S/C5H11NO2/c1-2-3-4(6)5(7)8/h4H,2-3,6H2,1H3,(H,7,8)/t4-/m1/s1</td></tr>\n",
       "        <tr><td><strong>InChi Key</strong></td><td>SNDPXSYFESPGGJ-SCSAIBSYSA-N</td></tr>\n",
       "        <tr><td><strong>Structure</strong></td><td><?xml version=\"1.0\"?>\n",
       "<svg version=\"1.1\" id=\"topsvg\"\n",
       "xmlns=\"http://www.w3.org/2000/svg\" xmlns:xlink=\"http://www.w3.org/1999/xlink\"\n",
       "xmlns:cml=\"http://www.xml-cml.org/schema\" x=\"0\" y=\"0\" width=\"200px\" height=\"200px\" viewBox=\"0 0 100 100\">\n",
       "<title> - Open Babel Depiction</title>\n",
       "<rect x=\"0\" y=\"0\" width=\"100\" height=\"100\" fill=\"white\"/>\n",
       "<g transform=\"translate(0,0)\">\n",
       "<svg width=\"100\" height=\"100\" x=\"0\" y=\"0\" viewBox=\"0 0 283.344 221.425\"\n",
       "font-family=\"sans-serif\" stroke=\"rgb(0,0,0)\" stroke-width=\"2\"  stroke-linecap=\"round\">\n",
       "<line x1=\"72.8\" y1=\"77.9\" x2=\"110.7\" y2=\"77.9\" stroke=\"rgb(0,0,0)\"  stroke-width=\"2.0\"/>\n",
       "<line x1=\"72.8\" y1=\"77.9\" x2=\"51.3\" y2=\"65.4\" stroke=\"rgb(0,0,0)\"  stroke-width=\"2.0\"/>\n",
       "<line x1=\"72.8\" y1=\"77.9\" x2=\"72.8\" y2=\"53.0\" stroke=\"rgb(0,0,0)\"  stroke-width=\"2.0\"/>\n",
       "<line x1=\"72.8\" y1=\"77.9\" x2=\"60.4\" y2=\"99.5\" stroke=\"rgb(0,0,0)\"  stroke-width=\"2.0\"/>\n",
       "<line x1=\"110.7\" y1=\"77.9\" x2=\"148.6\" y2=\"143.5\" stroke=\"rgb(0,0,0)\"  stroke-width=\"2.0\"/>\n",
       "<line x1=\"110.7\" y1=\"77.9\" x2=\"132.3\" y2=\"65.4\" stroke=\"rgb(0,0,0)\"  stroke-width=\"2.0\"/>\n",
       "<line x1=\"110.7\" y1=\"77.9\" x2=\"110.7\" y2=\"53.0\" stroke=\"rgb(0,0,0)\"  stroke-width=\"2.0\"/>\n",
       "<line x1=\"148.6\" y1=\"143.5\" x2=\"148.6\" y2=\"168.4\" stroke=\"rgb(0,0,0)\"  stroke-width=\"2.0\"/>\n",
       "<line x1=\"148.6\" y1=\"143.5\" x2=\"127.0\" y2=\"156.0\" stroke=\"rgb(0,0,0)\"  stroke-width=\"2.0\"/>\n",
       "<line x1=\"186.5\" y1=\"143.5\" x2=\"224.4\" y2=\"143.5\" stroke=\"rgb(0,0,0)\"  stroke-width=\"2.0\"/>\n",
       "<line x1=\"186.5\" y1=\"143.5\" x2=\"186.5\" y2=\"118.6\" stroke=\"rgb(0,0,0)\"  stroke-width=\"2.0\"/>\n",
       "<line x1=\"227.0\" y1=\"142.0\" x2=\"239.4\" y2=\"163.6\" stroke=\"rgb(0,0,0)\"  stroke-width=\"2.0\"/>\n",
       "<line x1=\"221.8\" y1=\"145.0\" x2=\"234.2\" y2=\"166.6\" stroke=\"rgb(0,0,0)\"  stroke-width=\"2.0\"/>\n",
       "<line x1=\"224.4\" y1=\"143.5\" x2=\"236.8\" y2=\"122.0\" stroke=\"rgb(0,0,0)\"  stroke-width=\"2.0\"/>\n",
       "<line x1=\"211.4\" y1=\"105.6\" x2=\"199.5\" y2=\"105.6\" stroke=\"rgb(0,0,0)\"  stroke-width=\"2.0\"/>\n",
       "<line x1=\"186.5\" y1=\"80.7\" x2=\"186.5\" y2=\"92.6\" stroke=\"rgb(0,0,0)\"  stroke-width=\"2.0\"/>\n",
       "<line x1=\"173.5\" y1=\"105.6\" x2=\"161.6\" y2=\"105.6\" stroke=\"rgb(0,0,0)\"  stroke-width=\"2.0\"/>\n",
       "<line x1=\"187.3\" y1=\"148.6\" x2=\"185.7\" y2=\"148.6\" stroke=\"rgb(0,0,0)\"  stroke-width=\"1.0\"/>\n",
       "<line x1=\"187.9\" y1=\"152.7\" x2=\"185.1\" y2=\"152.7\" stroke=\"rgb(0,0,0)\"  stroke-width=\"1.0\"/>\n",
       "<line x1=\"188.6\" y1=\"156.7\" x2=\"184.4\" y2=\"156.7\" stroke=\"rgb(0,0,0)\"  stroke-width=\"1.0\"/>\n",
       "<line x1=\"189.2\" y1=\"160.8\" x2=\"183.8\" y2=\"160.8\" stroke=\"rgb(0,0,0)\"  stroke-width=\"1.0\"/>\n",
       "<line x1=\"189.9\" y1=\"164.9\" x2=\"183.1\" y2=\"164.9\" stroke=\"rgb(0,0,0)\"  stroke-width=\"1.0\"/>\n",
       "<line x1=\"190.5\" y1=\"168.9\" x2=\"182.5\" y2=\"168.9\" stroke=\"rgb(0,0,0)\"  stroke-width=\"1.0\"/>\n",
       "<line x1=\"186.5\" y1=\"143.5\" x2=\"148.6\" y2=\"143.5\" stroke=\"rgb(0,0,0)\"  stroke-width=\"2.0\"/>\n",
       "<text x=\"180.502015\" y=\"189.425083\" fill=\"rgb(191,191,191)\"  stroke=\"rgb(191,191,191)\" stroke-width=\"1\" font-size=\"16\" >H</text>\n",
       "<text x=\"237.344121\" y=\"184.348151\" fill=\"rgb(255,12,12)\"  stroke=\"rgb(255,12,12)\" stroke-width=\"1\" font-size=\"16\" >O</text>\n",
       "<text x=\"34.000000\" y=\"66.947368\" fill=\"rgb(191,191,191)\"  stroke=\"rgb(191,191,191)\" stroke-width=\"1\" font-size=\"16\" >H</text>\n",
       "<text x=\"66.817805\" y=\"48.000000\" fill=\"rgb(191,191,191)\"  stroke=\"rgb(191,191,191)\" stroke-width=\"1\" font-size=\"16\" >H</text>\n",
       "<text x=\"47.870436\" y=\"118.712542\" fill=\"rgb(191,191,191)\"  stroke=\"rgb(191,191,191)\" stroke-width=\"1\" font-size=\"16\" >H</text>\n",
       "<text x=\"137.530346\" y=\"66.947368\" fill=\"rgb(191,191,191)\"  stroke=\"rgb(191,191,191)\" stroke-width=\"1\" font-size=\"16\" >H</text>\n",
       "<text x=\"104.712542\" y=\"48.000000\" fill=\"rgb(191,191,191)\"  stroke=\"rgb(191,191,191)\" stroke-width=\"1\" font-size=\"16\" >H</text>\n",
       "<text x=\"142.607278\" y=\"189.425083\" fill=\"rgb(191,191,191)\"  stroke=\"rgb(191,191,191)\" stroke-width=\"1\" font-size=\"16\" >H</text>\n",
       "<text x=\"109.789474\" y=\"170.477715\" fill=\"rgb(191,191,191)\"  stroke=\"rgb(191,191,191)\" stroke-width=\"1\" font-size=\"16\" >H</text>\n",
       "<text x=\"218.396752\" y=\"113.635610\" fill=\"rgb(191,191,191)\"  stroke=\"rgb(191,191,191)\" stroke-width=\"1\" font-size=\"16\" >H</text>\n",
       "<text x=\"180.502015\" y=\"75.740873\" fill=\"rgb(191,191,191)\"  stroke=\"rgb(191,191,191)\" stroke-width=\"1\" font-size=\"16\" >H</text>\n",
       "<text x=\"248.144121\" y=\"96.600542\" fill=\"rgb(255,12,12)\"  stroke=\"rgb(255,12,12)\" stroke-width=\"1\" font-size=\"16\" >_</text>\n",
       "<text x=\"237.344121\" y=\"118.712542\" fill=\"rgb(255,12,12)\"  stroke=\"rgb(255,12,12)\" stroke-width=\"1\" font-size=\"16\" >O</text>\n",
       "<text x=\"191.302015\" y=\"101.603610\" fill=\"rgb(12,12,255)\"  stroke=\"rgb(12,12,255)\" stroke-width=\"1\" font-size=\"16\" >+</text>\n",
       "<text x=\"180.502015\" y=\"113.635610\" fill=\"rgb(12,12,255)\"  stroke=\"rgb(12,12,255)\" stroke-width=\"1\" font-size=\"16\" >N</text>\n",
       "<text x=\"142.607278\" y=\"113.635610\" fill=\"rgb(191,191,191)\"  stroke=\"rgb(191,191,191)\" stroke-width=\"1\" font-size=\"16\" >H</text>\n",
       "</svg>\n",
       "</g>\n",
       "<text font-size=\"18.000000\" fill =\"black\" font-family=\"sans-serif\"\n",
       "x=\"10.000000\" y=\"20.000000\" ></text>\n",
       "</svg></td></tr>\n",
       "        <tr><td><strong>DBs</strong></td><td>zinc15: ZINC00391822</td></tr>\n",
       "        <tr><td><strong>Formula</strong></td><td>C5H11NO2</td></tr>\n",
       "    </tbody>\n",
       "</table>"
      ],
      "text/plain": [
       "Metabolite SNDPXSYFESPGGJ-SCSAIBSYSA-N [zinc15: ZINC00391822]"
      ]
     },
     "execution_count": 5,
     "metadata": {},
     "output_type": "execute_result"
    }
   ],
   "source": [
    "Metabolite.get('SNDPXSYFESPGGJ-SCSAIBSYSA-N')"
   ]
  },
  {
   "cell_type": "markdown",
   "metadata": {},
   "source": [
    "#### The query can also be done using identifiers from databases\n",
    "\n",
    "References are not indexed so this can be very slow."
   ]
  },
  {
   "cell_type": "code",
   "execution_count": 6,
   "metadata": {
    "collapsed": true
   },
   "outputs": [],
   "source": [
    "ref = Reference.objects(accession=\"D00112\", database=\"kegg\")"
   ]
  },
  {
   "cell_type": "code",
   "execution_count": 7,
   "metadata": {
    "collapsed": false
   },
   "outputs": [],
   "source": [
    "mets = Metabolite.objects(references=ref[0])"
   ]
  },
  {
   "cell_type": "code",
   "execution_count": 8,
   "metadata": {
    "collapsed": false
   },
   "outputs": [
    {
     "data": {
      "text/html": [
       "<table>\n",
       "    <tbody>\n",
       "        <tr><td><strong>InChi</strong></td><td>InChI=1S/C29H44O12/c1-13-22(34)23(35)24(36)25(40-13)41-15-8-19(32)28(12-30)21-17(3-5-27(28,37)9-15)29(38)6-4-16(14-7-20(33)39-11-14)26(29,2)10-18(21)31/h7,13,15-19,21-25,30-32,34-38H,3-6,8-12H2,1-2H3/t13-,15-,16+,17+,18+,19+,21+,22-,23+,24+,25-,26+,27-,28+,29-/m0/s1</td></tr>\n",
       "        <tr><td><strong>InChi Key</strong></td><td>LPMXVESGRSUGHW-HBYQJFLCSA-N</td></tr>\n",
       "        <tr><td><strong>Structure</strong></td><td><?xml version=\"1.0\"?>\n",
       "<svg version=\"1.1\" id=\"topsvg\"\n",
       "xmlns=\"http://www.w3.org/2000/svg\" xmlns:xlink=\"http://www.w3.org/1999/xlink\"\n",
       "xmlns:cml=\"http://www.xml-cml.org/schema\" x=\"0\" y=\"0\" width=\"200px\" height=\"200px\" viewBox=\"0 0 100 100\">\n",
       "<title> - Open Babel Depiction</title>\n",
       "<rect x=\"0\" y=\"0\" width=\"100\" height=\"100\" fill=\"white\"/>\n",
       "<g transform=\"translate(0,0)\">\n",
       "<svg width=\"100\" height=\"100\" x=\"0\" y=\"0\" viewBox=\"0 0 359.304 448.711\"\n",
       "font-family=\"sans-serif\" stroke=\"rgb(0,0,0)\" stroke-width=\"2\"  stroke-linecap=\"round\">\n",
       "<polygon points=\"152.013 188.077 186.425 168.377 189.679 175.685 \" stroke-width=\"2\" fill=\"rgb(0,0,0)\"  stroke=\"rgb(0,0,0)\" />\n",
       "<line x1=\"152.0\" y1=\"188.1\" x2=\"183.9\" y2=\"211.3\" stroke=\"rgb(0,0,0)\"  stroke-width=\"2.0\"/>\n",
       "<polygon points=\"188.051812 172.031268 188.197327 132.379696 196.153503 133.215924 \" stroke-width=\"2.000000\" fill=\"rgb(0,0,0)\"  stroke=\"rgb(0,0,0)\" />\n",
       "<line x1=\"188.1\" y1=\"172.0\" x2=\"185.3\" y2=\"198.3\" stroke=\"rgb(0,0,0)\"  stroke-width=\"2.0\"/>\n",
       "<line x1=\"127.0\" y1=\"168.9\" x2=\"126.0\" y2=\"170.2\" stroke=\"rgb(0,0,0)\"  stroke-width=\"1.0\"/>\n",
       "<line x1=\"132.4\" y1=\"172.1\" x2=\"130.7\" y2=\"174.4\" stroke=\"rgb(0,0,0)\"  stroke-width=\"1.0\"/>\n",
       "<line x1=\"137.9\" y1=\"175.3\" x2=\"135.5\" y2=\"178.6\" stroke=\"rgb(0,0,0)\"  stroke-width=\"1.0\"/>\n",
       "<line x1=\"143.4\" y1=\"178.5\" x2=\"140.2\" y2=\"182.9\" stroke=\"rgb(0,0,0)\"  stroke-width=\"1.0\"/>\n",
       "<line x1=\"148.9\" y1=\"181.6\" x2=\"144.9\" y2=\"187.1\" stroke=\"rgb(0,0,0)\"  stroke-width=\"1.0\"/>\n",
       "<line x1=\"154.4\" y1=\"184.8\" x2=\"149.7\" y2=\"191.3\" stroke=\"rgb(0,0,0)\"  stroke-width=\"1.0\"/>\n",
       "<line x1=\"120.1\" y1=\"164.9\" x2=\"98.7\" y2=\"149.3\" stroke=\"rgb(0,0,0)\"  stroke-width=\"2.0\"/>\n",
       "<polygon points=\"147.889237 227.310310 148.034752 187.658739 155.990927 188.494966 \" stroke-width=\"2.000000\" fill=\"rgb(0,0,0)\"  stroke=\"rgb(0,0,0)\" />\n",
       "<line x1=\"147.9\" y1=\"227.3\" x2=\"174.2\" y2=\"230.1\" stroke=\"rgb(0,0,0)\"  stroke-width=\"2.0\"/>\n",
       "<line x1=\"183.9\" y1=\"211.3\" x2=\"208.1\" y2=\"200.5\" stroke=\"rgb(0,0,0)\"  stroke-width=\"2.0\"/>\n",
       "<polygon points=\"192.175415 132.797810 226.587441 113.098044 229.841334 120.406407 \" stroke-width=\"2.000000\" fill=\"rgb(0,0,0)\"  stroke=\"rgb(0,0,0)\" />\n",
       "<line x1=\"192.2\" y1=\"132.8\" x2=\"194.9\" y2=\"106.5\" stroke=\"rgb(0,0,0)\"  stroke-width=\"2.0\"/>\n",
       "<polygon points=\"219.967182 195.219142 185.700671 175.267336 190.402953 168.795200 \" stroke-width=\"2.000000\" fill=\"rgb(0,0,0)\"  stroke=\"rgb(0,0,0)\" />\n",
       "<line x1=\"235.1\" y1=\"120.7\" x2=\"234.1\" y2=\"122.0\" stroke=\"rgb(0,0,0)\"  stroke-width=\"1.0\"/>\n",
       "<line x1=\"240.6\" y1=\"123.9\" x2=\"238.9\" y2=\"126.3\" stroke=\"rgb(0,0,0)\"  stroke-width=\"1.0\"/>\n",
       "<line x1=\"246.0\" y1=\"127.1\" x2=\"243.6\" y2=\"130.5\" stroke=\"rgb(0,0,0)\"  stroke-width=\"1.0\"/>\n",
       "<line x1=\"251.5\" y1=\"130.3\" x2=\"248.3\" y2=\"134.7\" stroke=\"rgb(0,0,0)\"  stroke-width=\"1.0\"/>\n",
       "<line x1=\"257.0\" y1=\"133.5\" x2=\"253.0\" y2=\"138.9\" stroke=\"rgb(0,0,0)\"  stroke-width=\"1.0\"/>\n",
       "<line x1=\"262.5\" y1=\"136.7\" x2=\"257.8\" y2=\"143.2\" stroke=\"rgb(0,0,0)\"  stroke-width=\"1.0\"/>\n",
       "<line x1=\"228.2\" y1=\"116.8\" x2=\"202.3\" y2=\"111.3\" stroke=\"rgb(0,0,0)\"  stroke-width=\"2.0\"/>\n",
       "<line x1=\"79.9\" y1=\"220.2\" x2=\"64.4\" y2=\"241.6\" stroke=\"rgb(0,0,0)\"  stroke-width=\"2.0\"/>\n",
       "<polygon points=\"260.129758 139.940099 289.693987 113.516158 294.396269 119.988294 \" stroke-width=\"2.000000\" fill=\"rgb(0,0,0)\"  stroke=\"rgb(0,0,0)\" />\n",
       "<line x1=\"260.1\" y1=\"139.9\" x2=\"279.9\" y2=\"174.1\" stroke=\"rgb(0,0,0)\"  stroke-width=\"2.0\"/>\n",
       "<line x1=\"74.8\" y1=\"295.8\" x2=\"73.2\" y2=\"296.0\" stroke=\"rgb(0,0,0)\"  stroke-width=\"1.0\"/>\n",
       "<line x1=\"76.4\" y1=\"301.9\" x2=\"73.6\" y2=\"302.4\" stroke=\"rgb(0,0,0)\"  stroke-width=\"1.0\"/>\n",
       "<line x1=\"78.1\" y1=\"308.1\" x2=\"73.9\" y2=\"308.7\" stroke=\"rgb(0,0,0)\"  stroke-width=\"1.0\"/>\n",
       "<line x1=\"79.7\" y1=\"314.2\" x2=\"74.3\" y2=\"315.0\" stroke=\"rgb(0,0,0)\"  stroke-width=\"1.0\"/>\n",
       "<line x1=\"81.3\" y1=\"320.3\" x2=\"74.7\" y2=\"321.4\" stroke=\"rgb(0,0,0)\"  stroke-width=\"1.0\"/>\n",
       "<line x1=\"82.9\" y1=\"326.5\" x2=\"75.0\" y2=\"327.7\" stroke=\"rgb(0,0,0)\"  stroke-width=\"1.0\"/>\n",
       "<line x1=\"86.6\" y1=\"329.2\" x2=\"86.0\" y2=\"330.7\" stroke=\"rgb(0,0,0)\"  stroke-width=\"1.0\"/>\n",
       "<line x1=\"92.7\" y1=\"330.8\" x2=\"91.7\" y2=\"333.5\" stroke=\"rgb(0,0,0)\"  stroke-width=\"1.0\"/>\n",
       "<line x1=\"98.9\" y1=\"332.5\" x2=\"97.4\" y2=\"336.4\" stroke=\"rgb(0,0,0)\"  stroke-width=\"1.0\"/>\n",
       "<line x1=\"105.0\" y1=\"334.2\" x2=\"103.0\" y2=\"339.2\" stroke=\"rgb(0,0,0)\"  stroke-width=\"1.0\"/>\n",
       "<line x1=\"111.1\" y1=\"335.8\" x2=\"108.7\" y2=\"342.1\" stroke=\"rgb(0,0,0)\"  stroke-width=\"1.0\"/>\n",
       "<line x1=\"117.2\" y1=\"337.5\" x2=\"114.4\" y2=\"345.0\" stroke=\"rgb(0,0,0)\"  stroke-width=\"1.0\"/>\n",
       "<line x1=\"79.0\" y1=\"327.1\" x2=\"69.5\" y2=\"351.8\" stroke=\"rgb(0,0,0)\"  stroke-width=\"2.0\"/>\n",
       "<line x1=\"121.4\" y1=\"335.6\" x2=\"122.4\" y2=\"336.9\" stroke=\"rgb(0,0,0)\"  stroke-width=\"1.0\"/>\n",
       "<line x1=\"125.9\" y1=\"331.2\" x2=\"127.7\" y2=\"333.4\" stroke=\"rgb(0,0,0)\"  stroke-width=\"1.0\"/>\n",
       "<line x1=\"130.4\" y1=\"326.7\" x2=\"133.0\" y2=\"329.9\" stroke=\"rgb(0,0,0)\"  stroke-width=\"1.0\"/>\n",
       "<line x1=\"134.9\" y1=\"322.2\" x2=\"138.4\" y2=\"326.5\" stroke=\"rgb(0,0,0)\"  stroke-width=\"1.0\"/>\n",
       "<line x1=\"139.4\" y1=\"317.8\" x2=\"143.7\" y2=\"323.0\" stroke=\"rgb(0,0,0)\"  stroke-width=\"1.0\"/>\n",
       "<line x1=\"143.9\" y1=\"313.3\" x2=\"149.0\" y2=\"319.5\" stroke=\"rgb(0,0,0)\"  stroke-width=\"1.0\"/>\n",
       "<line x1=\"115.8\" y1=\"341.2\" x2=\"132.4\" y2=\"361.8\" stroke=\"rgb(0,0,0)\"  stroke-width=\"2.0\"/>\n",
       "<line x1=\"140.3\" y1=\"277.4\" x2=\"154.4\" y2=\"240.6\" stroke=\"rgb(0,0,0)\"  stroke-width=\"2.0\"/>\n",
       "<polygon points=\"140.280020 277.433407 150.402046 315.771547 142.500539 317.023022 \" stroke-width=\"2.000000\" fill=\"rgb(0,0,0)\"  stroke=\"rgb(0,0,0)\" />\n",
       "<line x1=\"189.5\" y1=\"200.1\" x2=\"164.3\" y2=\"192.0\" stroke=\"rgb(0,0,0)\"  stroke-width=\"2.0\"/>\n",
       "<line x1=\"191.3\" y1=\"194.4\" x2=\"166.2\" y2=\"186.3\" stroke=\"rgb(0,0,0)\"  stroke-width=\"2.0\"/>\n",
       "<line x1=\"147.9\" y1=\"227.3\" x2=\"158.6\" y2=\"251.5\" stroke=\"rgb(0,0,0)\"  stroke-width=\"2.0\"/>\n",
       "<line x1=\"183.9\" y1=\"211.3\" x2=\"194.7\" y2=\"235.4\" stroke=\"rgb(0,0,0)\"  stroke-width=\"2.0\"/>\n",
       "<line x1=\"183.9\" y1=\"211.3\" x2=\"168.4\" y2=\"232.7\" stroke=\"rgb(0,0,0)\"  stroke-width=\"2.0\"/>\n",
       "<line x1=\"124.2\" y1=\"125.7\" x2=\"97.9\" y2=\"122.9\" stroke=\"rgb(0,0,0)\"  stroke-width=\"2.0\"/>\n",
       "<line x1=\"124.2\" y1=\"125.7\" x2=\"113.5\" y2=\"101.5\" stroke=\"rgb(0,0,0)\"  stroke-width=\"2.0\"/>\n",
       "<line x1=\"84.1\" y1=\"180.9\" x2=\"57.8\" y2=\"178.2\" stroke=\"rgb(0,0,0)\"  stroke-width=\"2.0\"/>\n",
       "<line x1=\"84.1\" y1=\"180.9\" x2=\"73.3\" y2=\"156.8\" stroke=\"rgb(0,0,0)\"  stroke-width=\"2.0\"/>\n",
       "<line x1=\"76.3\" y1=\"147.0\" x2=\"64.0\" y2=\"152.5\" stroke=\"rgb(0,0,0)\"  stroke-width=\"2.0\"/>\n",
       "<line x1=\"111.9\" y1=\"243.4\" x2=\"122.6\" y2=\"267.5\" stroke=\"rgb(0,0,0)\"  stroke-width=\"2.0\"/>\n",
       "<line x1=\"111.9\" y1=\"243.4\" x2=\"96.3\" y2=\"264.8\" stroke=\"rgb(0,0,0)\"  stroke-width=\"2.0\"/>\n",
       "<line x1=\"192.4\" y1=\"243.3\" x2=\"197.9\" y2=\"255.6\" stroke=\"rgb(0,0,0)\"  stroke-width=\"2.0\"/>\n",
       "<line x1=\"230.5\" y1=\"202.9\" x2=\"241.4\" y2=\"210.8\" stroke=\"rgb(0,0,0)\"  stroke-width=\"2.0\"/>\n",
       "<line x1=\"160.3\" y1=\"109.6\" x2=\"149.5\" y2=\"85.4\" stroke=\"rgb(0,0,0)\"  stroke-width=\"2.0\"/>\n",
       "<line x1=\"160.3\" y1=\"109.6\" x2=\"175.8\" y2=\"88.2\" stroke=\"rgb(0,0,0)\"  stroke-width=\"2.0\"/>\n",
       "<line x1=\"256.0\" y1=\"179.2\" x2=\"282.3\" y2=\"181.9\" stroke=\"rgb(0,0,0)\"  stroke-width=\"2.0\"/>\n",
       "<line x1=\"256.0\" y1=\"179.2\" x2=\"266.8\" y2=\"203.3\" stroke=\"rgb(0,0,0)\"  stroke-width=\"2.0\"/>\n",
       "<line x1=\"228.4\" y1=\"241.8\" x2=\"220.5\" y2=\"252.7\" stroke=\"rgb(0,0,0)\"  stroke-width=\"2.0\"/>\n",
       "<polygon points=\"79.934895 220.168021 53.230364 221.383295 54.066592 213.427120 \" stroke-width=\"2.000000\" fill=\"rgb(0,0,0)\"  stroke=\"rgb(0,0,0)\" />\n",
       "<line x1=\"240.4\" y1=\"79.2\" x2=\"216.2\" y2=\"68.5\" stroke=\"rgb(0,0,0)\"  stroke-width=\"2.0\"/>\n",
       "<line x1=\"240.4\" y1=\"79.2\" x2=\"237.6\" y2=\"52.9\" stroke=\"rgb(0,0,0)\"  stroke-width=\"2.0\"/>\n",
       "<line x1=\"185.6\" y1=\"96.2\" x2=\"181.5\" y2=\"83.4\" stroke=\"rgb(0,0,0)\"  stroke-width=\"2.0\"/>\n",
       "<line x1=\"279.9\" y1=\"174.1\" x2=\"279.9\" y2=\"200.6\" stroke=\"rgb(0,0,0)\"  stroke-width=\"2.0\"/>\n",
       "<line x1=\"279.9\" y1=\"174.1\" x2=\"256.9\" y2=\"187.3\" stroke=\"rgb(0,0,0)\"  stroke-width=\"2.0\"/>\n",
       "<line x1=\"279.9\" y1=\"174.1\" x2=\"306.3\" y2=\"174.1\" stroke=\"rgb(0,0,0)\"  stroke-width=\"2.0\"/>\n",
       "<line x1=\"279.9\" y1=\"79.2\" x2=\"282.6\" y2=\"52.9\" stroke=\"rgb(0,0,0)\"  stroke-width=\"2.0\"/>\n",
       "<line x1=\"279.9\" y1=\"79.2\" x2=\"304.0\" y2=\"68.5\" stroke=\"rgb(0,0,0)\"  stroke-width=\"2.0\"/>\n",
       "<line x1=\"79.0\" y1=\"327.1\" x2=\"52.8\" y2=\"331.2\" stroke=\"rgb(0,0,0)\"  stroke-width=\"2.0\"/>\n",
       "<line x1=\"242.0\" y1=\"234.8\" x2=\"244.8\" y2=\"261.1\" stroke=\"rgb(0,0,0)\"  stroke-width=\"2.0\"/>\n",
       "<line x1=\"242.0\" y1=\"234.8\" x2=\"266.2\" y2=\"245.6\" stroke=\"rgb(0,0,0)\"  stroke-width=\"2.0\"/>\n",
       "<line x1=\"222.3\" y1=\"174.1\" x2=\"222.3\" y2=\"147.7\" stroke=\"rgb(0,0,0)\"  stroke-width=\"2.0\"/>\n",
       "<line x1=\"115.8\" y1=\"341.2\" x2=\"106.3\" y2=\"365.9\" stroke=\"rgb(0,0,0)\"  stroke-width=\"2.0\"/>\n",
       "<line x1=\"73.0\" y1=\"374.0\" x2=\"81.5\" y2=\"384.5\" stroke=\"rgb(0,0,0)\"  stroke-width=\"2.0\"/>\n",
       "<line x1=\"140.3\" y1=\"277.4\" x2=\"166.4\" y2=\"273.3\" stroke=\"rgb(0,0,0)\"  stroke-width=\"2.0\"/>\n",
       "<line x1=\"136.0\" y1=\"384.0\" x2=\"131.1\" y2=\"396.6\" stroke=\"rgb(0,0,0)\"  stroke-width=\"2.0\"/>\n",
       "<line x1=\"154.4\" y1=\"240.6\" x2=\"175.0\" y2=\"224.0\" stroke=\"rgb(0,0,0)\"  stroke-width=\"2.0\"/>\n",
       "<line x1=\"154.4\" y1=\"240.6\" x2=\"179.1\" y2=\"250.1\" stroke=\"rgb(0,0,0)\"  stroke-width=\"2.0\"/>\n",
       "<line x1=\"154.4\" y1=\"240.6\" x2=\"137.8\" y2=\"220.0\" stroke=\"rgb(0,0,0)\"  stroke-width=\"2.0\"/>\n",
       "<line x1=\"193.6\" y1=\"320.3\" x2=\"202.1\" y2=\"330.8\" stroke=\"rgb(0,0,0)\"  stroke-width=\"2.0\"/>\n",
       "<line x1=\"220.0\" y1=\"195.2\" x2=\"204.4\" y2=\"216.6\" stroke=\"rgb(0,0,0)\"  stroke-width=\"2.0\"/>\n",
       "<line x1=\"220.0\" y1=\"195.2\" x2=\"230.7\" y2=\"219.4\" stroke=\"rgb(0,0,0)\"  stroke-width=\"2.0\"/>\n",
       "<polygon points=\"292.045128 116.752226 312.703638 133.717920 306.758480 139.070965 \" stroke-width=\"2.000000\" fill=\"rgb(0,0,0)\"  stroke=\"rgb(0,0,0)\" />\n",
       "<line x1=\"292.0\" y1=\"116.8\" x2=\"254.2\" y2=\"197.3\" stroke=\"rgb(0,0,0)\"  stroke-width=\"2.0\"/>\n",
       "<line x1=\"72.8\" y1=\"288.1\" x2=\"54.6\" y2=\"307.3\" stroke=\"rgb(0,0,0)\"  stroke-width=\"2.0\"/>\n",
       "<line x1=\"72.8\" y1=\"288.1\" x2=\"62.0\" y2=\"264.0\" stroke=\"rgb(0,0,0)\"  stroke-width=\"2.0\"/>\n",
       "<polygon points=\"146.451292 316.397285 166.193575 334.420911 159.976408 339.455474 \" stroke-width=\"2.000000\" fill=\"rgb(0,0,0)\"  stroke=\"rgb(0,0,0)\" />\n",
       "<line x1=\"146.5\" y1=\"316.4\" x2=\"172.6\" y2=\"312.3\" stroke=\"rgb(0,0,0)\"  stroke-width=\"2.0\"/>\n",
       "<line x1=\"279.9\" y1=\"79.2\" x2=\"292.0\" y2=\"116.8\" stroke=\"rgb(0,0,0)\"  stroke-width=\"2.0\"/>\n",
       "<line x1=\"292.0\" y1=\"116.8\" x2=\"260.1\" y2=\"139.9\" stroke=\"rgb(0,0,0)\"  stroke-width=\"2.0\"/>\n",
       "<line x1=\"260.1\" y1=\"139.9\" x2=\"228.2\" y2=\"116.8\" stroke=\"rgb(0,0,0)\"  stroke-width=\"2.0\"/>\n",
       "<line x1=\"228.2\" y1=\"116.8\" x2=\"240.4\" y2=\"79.2\" stroke=\"rgb(0,0,0)\"  stroke-width=\"2.0\"/>\n",
       "<line x1=\"240.4\" y1=\"79.2\" x2=\"279.9\" y2=\"79.2\" stroke=\"rgb(0,0,0)\"  stroke-width=\"2.0\"/>\n",
       "<line x1=\"242.0\" y1=\"234.8\" x2=\"254.2\" y2=\"197.3\" stroke=\"rgb(0,0,0)\"  stroke-width=\"2.0\"/>\n",
       "<line x1=\"254.2\" y1=\"197.3\" x2=\"222.3\" y2=\"174.1\" stroke=\"rgb(0,0,0)\"  stroke-width=\"2.0\"/>\n",
       "<line x1=\"245.1\" y1=\"199.6\" x2=\"222.9\" y2=\"183.5\" stroke=\"rgb(0,0,0)\"  stroke-width=\"2.0\"/>\n",
       "<line x1=\"222.3\" y1=\"174.1\" x2=\"190.4\" y2=\"197.3\" stroke=\"rgb(0,0,0)\"  stroke-width=\"2.0\"/>\n",
       "<line x1=\"190.4\" y1=\"197.3\" x2=\"198.6\" y2=\"222.5\" stroke=\"rgb(0,0,0)\"  stroke-width=\"2.0\"/>\n",
       "<line x1=\"215.6\" y1=\"234.8\" x2=\"242.0\" y2=\"234.8\" stroke=\"rgb(0,0,0)\"  stroke-width=\"2.0\"/>\n",
       "<line x1=\"188.1\" y1=\"172.0\" x2=\"192.2\" y2=\"132.8\" stroke=\"rgb(0,0,0)\"  stroke-width=\"2.0\"/>\n",
       "<line x1=\"192.2\" y1=\"132.8\" x2=\"160.3\" y2=\"109.6\" stroke=\"rgb(0,0,0)\"  stroke-width=\"2.0\"/>\n",
       "<line x1=\"160.3\" y1=\"109.6\" x2=\"124.2\" y2=\"125.7\" stroke=\"rgb(0,0,0)\"  stroke-width=\"2.0\"/>\n",
       "<line x1=\"124.2\" y1=\"125.7\" x2=\"120.1\" y2=\"164.9\" stroke=\"rgb(0,0,0)\"  stroke-width=\"2.0\"/>\n",
       "<line x1=\"120.1\" y1=\"164.9\" x2=\"152.0\" y2=\"188.1\" stroke=\"rgb(0,0,0)\"  stroke-width=\"2.0\"/>\n",
       "<line x1=\"152.0\" y1=\"188.1\" x2=\"188.1\" y2=\"172.0\" stroke=\"rgb(0,0,0)\"  stroke-width=\"2.0\"/>\n",
       "<line x1=\"147.9\" y1=\"227.3\" x2=\"111.9\" y2=\"243.4\" stroke=\"rgb(0,0,0)\"  stroke-width=\"2.0\"/>\n",
       "<line x1=\"111.9\" y1=\"243.4\" x2=\"79.9\" y2=\"220.2\" stroke=\"rgb(0,0,0)\"  stroke-width=\"2.0\"/>\n",
       "<line x1=\"79.9\" y1=\"220.2\" x2=\"84.1\" y2=\"180.9\" stroke=\"rgb(0,0,0)\"  stroke-width=\"2.0\"/>\n",
       "<line x1=\"84.1\" y1=\"180.9\" x2=\"120.1\" y2=\"164.9\" stroke=\"rgb(0,0,0)\"  stroke-width=\"2.0\"/>\n",
       "<line x1=\"152.0\" y1=\"188.1\" x2=\"147.9\" y2=\"227.3\" stroke=\"rgb(0,0,0)\"  stroke-width=\"2.0\"/>\n",
       "<line x1=\"192.2\" y1=\"132.8\" x2=\"228.2\" y2=\"116.8\" stroke=\"rgb(0,0,0)\"  stroke-width=\"2.0\"/>\n",
       "<line x1=\"260.1\" y1=\"139.9\" x2=\"256.0\" y2=\"179.2\" stroke=\"rgb(0,0,0)\"  stroke-width=\"2.0\"/>\n",
       "<line x1=\"256.0\" y1=\"179.2\" x2=\"220.0\" y2=\"195.2\" stroke=\"rgb(0,0,0)\"  stroke-width=\"2.0\"/>\n",
       "<line x1=\"220.0\" y1=\"195.2\" x2=\"188.1\" y2=\"172.0\" stroke=\"rgb(0,0,0)\"  stroke-width=\"2.0\"/>\n",
       "<line x1=\"79.0\" y1=\"327.1\" x2=\"72.8\" y2=\"288.1\" stroke=\"rgb(0,0,0)\"  stroke-width=\"2.0\"/>\n",
       "<line x1=\"72.8\" y1=\"288.1\" x2=\"93.3\" y2=\"271.5\" stroke=\"rgb(0,0,0)\"  stroke-width=\"2.0\"/>\n",
       "<line x1=\"115.6\" y1=\"268.0\" x2=\"140.3\" y2=\"277.4\" stroke=\"rgb(0,0,0)\"  stroke-width=\"2.0\"/>\n",
       "<line x1=\"140.3\" y1=\"277.4\" x2=\"146.5\" y2=\"316.4\" stroke=\"rgb(0,0,0)\"  stroke-width=\"2.0\"/>\n",
       "<line x1=\"146.5\" y1=\"316.4\" x2=\"115.8\" y2=\"341.2\" stroke=\"rgb(0,0,0)\"  stroke-width=\"2.0\"/>\n",
       "<line x1=\"115.8\" y1=\"341.2\" x2=\"79.0\" y2=\"327.1\" stroke=\"rgb(0,0,0)\"  stroke-width=\"2.0\"/>\n",
       "<text x=\"82.182100\" y=\"149.701105\" fill=\"rgb(255,12,12)\"  stroke=\"rgb(255,12,12)\" stroke-width=\"1\" font-size=\"16\" >O</text>\n",
       "<text x=\"181.122695\" y=\"239.433913\" fill=\"rgb(255,12,12)\"  stroke=\"rgb(255,12,12)\" stroke-width=\"1\" font-size=\"16\" >O</text>\n",
       "<text x=\"213.967182\" y=\"203.219142\" fill=\"rgb(255,12,12)\"  stroke=\"rgb(255,12,12)\" stroke-width=\"1\" font-size=\"16\" >O</text>\n",
       "<text x=\"230.012767\" y=\"239.258114\" fill=\"rgb(255,12,12)\"  stroke=\"rgb(255,12,12)\" stroke-width=\"1\" font-size=\"16\" >O</text>\n",
       "<text x=\"183.626888\" y=\"116.550199\" fill=\"rgb(255,12,12)\"  stroke=\"rgb(255,12,12)\" stroke-width=\"1\" font-size=\"16\" >O</text>\n",
       "<text x=\"50.747021\" y=\"260.083391\" fill=\"rgb(255,12,12)\"  stroke=\"rgb(255,12,12)\" stroke-width=\"1\" font-size=\"16\" >O</text>\n",
       "<text x=\"97.450677\" y=\"271.295947\" fill=\"rgb(255,12,12)\"  stroke=\"rgb(255,12,12)\" stroke-width=\"1\" font-size=\"16\" >O</text>\n",
       "<text x=\"58.826417\" y=\"371.915585\" fill=\"rgb(255,12,12)\"  stroke=\"rgb(255,12,12)\" stroke-width=\"1\" font-size=\"16\" >O</text>\n",
       "<text x=\"196.569048\" y=\"242.815420\" fill=\"rgb(255,12,12)\"  stroke=\"rgb(255,12,12)\" stroke-width=\"1\" font-size=\"16\" >O</text>\n",
       "<text x=\"134.619638\" y=\"379.881773\" fill=\"rgb(255,12,12)\"  stroke=\"rgb(255,12,12)\" stroke-width=\"1\" font-size=\"16\" >O</text>\n",
       "<text x=\"146.859694\" y=\"193.106065\" fill=\"rgb(255,12,12)\"  stroke=\"rgb(255,12,12)\" stroke-width=\"1\" font-size=\"16\" >O</text>\n",
       "<text x=\"179.415169\" y=\"318.226013\" fill=\"rgb(255,12,12)\"  stroke=\"rgb(255,12,12)\" stroke-width=\"1\" font-size=\"16\" >O</text>\n",
       "<text x=\"177.928210\" y=\"219.264726\" fill=\"rgb(191,191,191)\"  stroke=\"rgb(191,191,191)\" stroke-width=\"1\" font-size=\"16\" >H</text>\n",
       "<text x=\"190.299018\" y=\"101.564352\" fill=\"rgb(191,191,191)\"  stroke=\"rgb(191,191,191)\" stroke-width=\"1\" font-size=\"16\" >H</text>\n",
       "<text x=\"312.442040\" y=\"154.068967\" fill=\"rgb(191,191,191)\"  stroke=\"rgb(191,191,191)\" stroke-width=\"1\" font-size=\"16\" >H</text>\n",
       "<text x=\"157.934822\" y=\"271.349283\" fill=\"rgb(191,191,191)\"  stroke=\"rgb(191,191,191)\" stroke-width=\"1\" font-size=\"16\" >H</text>\n",
       "<text x=\"193.973794\" y=\"255.303699\" fill=\"rgb(191,191,191)\"  stroke=\"rgb(191,191,191)\" stroke-width=\"1\" font-size=\"16\" >H</text>\n",
       "<text x=\"154.740336\" y=\"251.180096\" fill=\"rgb(191,191,191)\"  stroke=\"rgb(191,191,191)\" stroke-width=\"1\" font-size=\"16\" >H</text>\n",
       "<text x=\"190.779309\" y=\"235.134512\" fill=\"rgb(191,191,191)\"  stroke=\"rgb(191,191,191)\" stroke-width=\"1\" font-size=\"16\" >H</text>\n",
       "<text x=\"78.987614\" y=\"129.531918\" fill=\"rgb(191,191,191)\"  stroke=\"rgb(191,191,191)\" stroke-width=\"1\" font-size=\"16\" >H</text>\n",
       "<text x=\"102.175488\" y=\"97.616548\" fill=\"rgb(191,191,191)\"  stroke=\"rgb(191,191,191)\" stroke-width=\"1\" font-size=\"16\" >H</text>\n",
       "<text x=\"38.825039\" y=\"184.810961\" fill=\"rgb(191,191,191)\"  stroke=\"rgb(191,191,191)\" stroke-width=\"1\" font-size=\"16\" >H</text>\n",
       "<text x=\"62.012913\" y=\"152.895591\" fill=\"rgb(191,191,191)\"  stroke=\"rgb(191,191,191)\" stroke-width=\"1\" font-size=\"16\" >H</text>\n",
       "<text x=\"46.143127\" y=\"165.746690\" fill=\"rgb(191,191,191)\"  stroke=\"rgb(191,191,191)\" stroke-width=\"1\" font-size=\"16\" >H</text>\n",
       "<text x=\"121.895849\" y=\"287.394867\" fill=\"rgb(191,191,191)\"  stroke=\"rgb(191,191,191)\" stroke-width=\"1\" font-size=\"16\" >H</text>\n",
       "<text x=\"82.662391\" y=\"283.271265\" fill=\"rgb(191,191,191)\"  stroke=\"rgb(191,191,191)\" stroke-width=\"1\" font-size=\"16\" >H</text>\n",
       "<text x=\"197.168280\" y=\"275.472886\" fill=\"rgb(191,191,191)\"  stroke=\"rgb(191,191,191)\" stroke-width=\"1\" font-size=\"16\" >H</text>\n",
       "<text x=\"245.882552\" y=\"226.407015\" fill=\"rgb(191,191,191)\"  stroke=\"rgb(191,191,191)\" stroke-width=\"1\" font-size=\"16\" >H</text>\n",
       "<text x=\"138.214461\" y=\"81.570964\" fill=\"rgb(191,191,191)\"  stroke=\"rgb(191,191,191)\" stroke-width=\"1\" font-size=\"16\" >H</text>\n",
       "<text x=\"177.447919\" y=\"85.694566\" fill=\"rgb(191,191,191)\"  stroke=\"rgb(191,191,191)\" stroke-width=\"1\" font-size=\"16\" >H</text>\n",
       "<text x=\"289.239613\" y=\"191.297160\" fill=\"rgb(191,191,191)\"  stroke=\"rgb(191,191,191)\" stroke-width=\"1\" font-size=\"16\" >H</text>\n",
       "<text x=\"266.051739\" y=\"223.212530\" fill=\"rgb(191,191,191)\"  stroke=\"rgb(191,191,191)\" stroke-width=\"1\" font-size=\"16\" >H</text>\n",
       "<text x=\"206.824893\" y=\"271.173484\" fill=\"rgb(191,191,191)\"  stroke=\"rgb(191,191,191)\" stroke-width=\"1\" font-size=\"16\" >H</text>\n",
       "<text x=\"34.701437\" y=\"224.044419\" fill=\"rgb(191,191,191)\"  stroke=\"rgb(191,191,191)\" stroke-width=\"1\" font-size=\"16\" >H</text>\n",
       "<text x=\"198.366002\" y=\"71.187874\" fill=\"rgb(191,191,191)\"  stroke=\"rgb(191,191,191)\" stroke-width=\"1\" font-size=\"16\" >H</text>\n",
       "<text x=\"230.281372\" y=\"48.000000\" fill=\"rgb(191,191,191)\"  stroke=\"rgb(191,191,191)\" stroke-width=\"1\" font-size=\"16\" >H</text>\n",
       "<text x=\"171.436302\" y=\"79.031432\" fill=\"rgb(191,191,191)\"  stroke=\"rgb(191,191,191)\" stroke-width=\"1\" font-size=\"16\" >H</text>\n",
       "<text x=\"273.854541\" y=\"221.553993\" fill=\"rgb(191,191,191)\"  stroke=\"rgb(191,191,191)\" stroke-width=\"1\" font-size=\"16\" >H</text>\n",
       "<text x=\"239.690214\" y=\"201.829210\" fill=\"rgb(191,191,191)\"  stroke=\"rgb(191,191,191)\" stroke-width=\"1\" font-size=\"16\" >H</text>\n",
       "<text x=\"313.304108\" y=\"182.104426\" fill=\"rgb(191,191,191)\"  stroke=\"rgb(191,191,191)\" stroke-width=\"1\" font-size=\"16\" >H</text>\n",
       "<text x=\"277.978144\" y=\"48.000000\" fill=\"rgb(191,191,191)\"  stroke=\"rgb(191,191,191)\" stroke-width=\"1\" font-size=\"16\" >H</text>\n",
       "<text x=\"309.893514\" y=\"71.187874\" fill=\"rgb(191,191,191)\"  stroke=\"rgb(191,191,191)\" stroke-width=\"1\" font-size=\"16\" >H</text>\n",
       "<text x=\"39.637315\" y=\"324.738069\" fill=\"rgb(191,191,191)\"  stroke=\"rgb(191,191,191)\" stroke-width=\"1\" font-size=\"16\" >H</text>\n",
       "<text x=\"34.000000\" y=\"341.257513\" fill=\"rgb(191,191,191)\"  stroke=\"rgb(191,191,191)\" stroke-width=\"1\" font-size=\"16\" >H</text>\n",
       "<text x=\"240.142218\" y=\"282.048878\" fill=\"rgb(191,191,191)\"  stroke=\"rgb(191,191,191)\" stroke-width=\"1\" font-size=\"16\" >H</text>\n",
       "<text x=\"272.057588\" y=\"258.861004\" fill=\"rgb(191,191,191)\"  stroke=\"rgb(191,191,191)\" stroke-width=\"1\" font-size=\"16\" >H</text>\n",
       "<text x=\"216.293832\" y=\"142.659211\" fill=\"rgb(191,191,191)\"  stroke=\"rgb(191,191,191)\" stroke-width=\"1\" font-size=\"16\" >H</text>\n",
       "<text x=\"95.655760\" y=\"386.053045\" fill=\"rgb(191,191,191)\"  stroke=\"rgb(191,191,191)\" stroke-width=\"1\" font-size=\"16\" >H</text>\n",
       "<text x=\"83.652834\" y=\"402.573656\" fill=\"rgb(191,191,191)\"  stroke=\"rgb(191,191,191)\" stroke-width=\"1\" font-size=\"16\" >H</text>\n",
       "<text x=\"173.243898\" y=\"279.262136\" fill=\"rgb(191,191,191)\"  stroke=\"rgb(191,191,191)\" stroke-width=\"1\" font-size=\"16\" >H</text>\n",
       "<text x=\"165.277709\" y=\"355.055356\" fill=\"rgb(191,191,191)\"  stroke=\"rgb(191,191,191)\" stroke-width=\"1\" font-size=\"16\" >H</text>\n",
       "<text x=\"120.482177\" y=\"416.711117\" fill=\"rgb(191,191,191)\"  stroke=\"rgb(191,191,191)\" stroke-width=\"1\" font-size=\"16\" >H</text>\n",
       "<text x=\"179.075552\" y=\"223.777647\" fill=\"rgb(191,191,191)\"  stroke=\"rgb(191,191,191)\" stroke-width=\"1\" font-size=\"16\" >H</text>\n",
       "<text x=\"185.246824\" y=\"262.741524\" fill=\"rgb(191,191,191)\"  stroke=\"rgb(191,191,191)\" stroke-width=\"1\" font-size=\"16\" >H</text>\n",
       "<text x=\"123.591064\" y=\"217.945992\" fill=\"rgb(191,191,191)\"  stroke=\"rgb(191,191,191)\" stroke-width=\"1\" font-size=\"16\" >H</text>\n",
       "<text x=\"204.241586\" y=\"348.884084\" fill=\"rgb(191,191,191)\"  stroke=\"rgb(191,191,191)\" stroke-width=\"1\" font-size=\"16\" >H</text>\n",
       "</svg>\n",
       "</g>\n",
       "<text font-size=\"18.000000\" fill =\"black\" font-family=\"sans-serif\"\n",
       "x=\"10.000000\" y=\"20.000000\" ></text>\n",
       "</svg></td></tr>\n",
       "        <tr><td><strong>DBs</strong></td><td>drugbank: DB01092; kegg: D00112; chebi: CHEBI:472805; pubchem: 439501</td></tr>\n",
       "        <tr><td><strong>Formula</strong></td><td>C29H44O12</td></tr>\n",
       "    </tbody>\n",
       "</table>"
      ],
      "text/plain": [
       "Metabolite LPMXVESGRSUGHW-HBYQJFLCSA-N [drugbank: DB01092, kegg: D00112, chebi: CHEBI:472805, pubchem: 439501]"
      ]
     },
     "execution_count": 8,
     "metadata": {},
     "output_type": "execute_result"
    }
   ],
   "source": [
    "mets[0]"
   ]
  },
  {
   "cell_type": "code",
   "execution_count": null,
   "metadata": {
    "collapsed": true
   },
   "outputs": [],
   "source": []
  }
 ],
 "metadata": {
  "kernelspec": {
   "display_name": "IPython (Python 3)",
   "language": "python",
   "name": "python3"
  },
  "language_info": {
   "codemirror_mode": {
    "name": "ipython",
    "version": 3
   },
   "file_extension": ".py",
   "mimetype": "text/x-python",
   "name": "python",
   "nbconvert_exporter": "python",
   "pygments_lexer": "ipython3",
   "version": "3.4.2"
  }
 },
 "nbformat": 4,
 "nbformat_minor": 1
}
