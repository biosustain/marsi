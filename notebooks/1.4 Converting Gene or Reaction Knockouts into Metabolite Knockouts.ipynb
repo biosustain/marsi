{
 "cells": [
  {
   "cell_type": "code",
   "execution_count": 1,
   "metadata": {
    "collapsed": false
   },
   "outputs": [],
   "source": [
    "from marsi.cobra.strain_design.post_processing import replace_strain_design_results"
   ]
  },
  {
   "cell_type": "code",
   "execution_count": 2,
   "metadata": {
    "collapsed": true
   },
   "outputs": [],
   "source": [
    "from cameo import models\n",
    "from cameo.strain_design import OptGene\n",
    "from cameo.util import TimeMachine\n",
    "from pandas import DataFrame"
   ]
  },
  {
   "cell_type": "markdown",
   "metadata": {
    "collapsed": true
   },
   "source": [
    "### Design a D-lactate producing strain\n",
    "\n",
    "\n",
    "In this example we are going to create strain designs using OptGene.\n",
    "\n",
    "| Model  | Medium  | Aerobicity  |    Target   |\n",
    "|------- |---------|-------------|-------------|\n",
    "| iJO1366| Glucose |  Anaerobic  | lac\\_\\_D\\_e |\n"
   ]
  },
  {
   "cell_type": "code",
   "execution_count": 3,
   "metadata": {
    "collapsed": true
   },
   "outputs": [],
   "source": [
    "model = models.bigg.iJO1366"
   ]
  },
  {
   "cell_type": "code",
   "execution_count": 4,
   "metadata": {
    "collapsed": true
   },
   "outputs": [],
   "source": [
    "model.reactions.EX_o2_e.lower_bound = 0"
   ]
  },
  {
   "cell_type": "markdown",
   "metadata": {},
   "source": [
    "We search for reactions, because they can be directly translated into metabolite targets"
   ]
  },
  {
   "cell_type": "code",
   "execution_count": null,
   "metadata": {
    "collapsed": true
   },
   "outputs": [],
   "source": [
    "optgene = OptGene(model, manipulation_type=\"reactions\", essential_reactions=[\"ATPM\"])"
   ]
  },
  {
   "cell_type": "code",
   "execution_count": null,
   "metadata": {
    "collapsed": false
   },
   "outputs": [],
   "source": [
    "results = optgene.run(target=\"EX_lac__D_e\", \n",
    "                      biomass=\"BIOMASS_Ec_iJO1366_core_53p95M\",\n",
    "                      substrate=\"EX_glc__D_e\",\n",
    "                      max_knockouts=15,\n",
    "                      max_evaluations=15000)"
   ]
  },
  {
   "cell_type": "code",
   "execution_count": null,
   "metadata": {
    "collapsed": false
   },
   "outputs": [],
   "source": [
    "df = results.data_frame"
   ]
  },
  {
   "cell_type": "code",
   "execution_count": null,
   "metadata": {
    "collapsed": false
   },
   "outputs": [],
   "source": [
    "df"
   ]
  },
  {
   "cell_type": "code",
   "execution_count": null,
   "metadata": {
    "collapsed": false
   },
   "outputs": [],
   "source": [
    "replacements = replace_strain_design_results(model, results, results._objective_function, \n",
    "                                             results._simulation_method, results._simulation_kwargs)"
   ]
  },
  {
   "cell_type": "code",
   "execution_count": null,
   "metadata": {
    "collapsed": false
   },
   "outputs": [],
   "source": [
    "replacements.style"
   ]
  },
  {
   "cell_type": "code",
   "execution_count": null,
   "metadata": {
    "collapsed": true
   },
   "outputs": [],
   "source": []
  }
 ],
 "metadata": {
  "kernelspec": {
   "display_name": "IPython (Python 3)",
   "language": "python",
   "name": "python3"
  },
  "language_info": {
   "codemirror_mode": {
    "name": "ipython",
    "version": 3
   },
   "file_extension": ".py",
   "mimetype": "text/x-python",
   "name": "python",
   "nbconvert_exporter": "python",
   "pygments_lexer": "ipython3",
   "version": "3.4.2"
  },
  "widgets": {
   "state": {
    "be56b3f021ce4e1dafbd0b36ab1271b9": {
     "views": [
      {
       "cell_index": 7
      }
     ]
    }
   },
   "version": "1.2.0"
  }
 },
 "nbformat": 4,
 "nbformat_minor": 1
}
